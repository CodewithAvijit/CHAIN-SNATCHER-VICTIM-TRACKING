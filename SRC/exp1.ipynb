{
 "cells": [
  {
   "cell_type": "code",
   "execution_count": 2,
   "id": "0d5dfc78",
   "metadata": {},
   "outputs": [
    {
     "name": "stdout",
     "output_type": "stream",
     "text": [
      "Using device: cuda\n"
     ]
    }
   ],
   "source": [
    "# ===============================\n",
    "# Step 1: Imports & Setup\n",
    "# ===============================\n",
    "import sys\n",
    "import os\n",
    "import torch\n",
    "from torch.utils.data import Dataset, DataLoader\n",
    "import torch.nn as nn\n",
    "import torch.optim as optim\n",
    "sys.path.append(r\"D:\\I3D\\pytorch-i3d\")\n",
    "\n",
    "from pytorch_i3d import InceptionI3d\n",
    "\n",
    "device = torch.device(\"cuda\" if torch.cuda.is_available() else \"cpu\")\n",
    "print(\"Using device:\", device)\n"
   ]
  },
  {
   "cell_type": "code",
   "execution_count": 23,
   "id": "49c9d854",
   "metadata": {},
   "outputs": [],
   "source": [
    "class I3DDataset(Dataset):\n",
    "    def __init__(self, root_dir, transform=None):\n",
    "        self.root_dir = root_dir\n",
    "        self.transform = transform\n",
    "        self.classes = sorted(os.listdir(root_dir))\n",
    "        self.class_to_idx = {cls_name: idx for idx, cls_name in enumerate(self.classes)}\n",
    "\n",
    "        self.files, self.labels = [], []\n",
    "        for cls_name, idx in self.class_to_idx.items():\n",
    "            cls_dir = os.path.join(root_dir, cls_name)\n",
    "            if not os.path.isdir(cls_dir): continue\n",
    "            for f in os.listdir(cls_dir):\n",
    "                if f.endswith('.pt'):\n",
    "                    self.files.append(os.path.join(cls_dir, f))\n",
    "                    self.labels.append(idx)\n",
    "\n",
    "    def __len__(self):\n",
    "        return len(self.files)\n",
    "\n",
    "    def __getitem__(self, idx):\n",
    "        file_path = self.files[idx]\n",
    "        data = torch.load(file_path).float()  # Ensure float\n",
    "\n",
    "        # Normalize shape to (C, T, H, W)\n",
    "        if data.dim() == 5:  # (N, C, T, H, W)\n",
    "            data = data[0]\n",
    "        if data.dim() == 4:  # (T, C, H, W)\n",
    "            if data.shape[1] in (1,3) and data.shape[0] > 4:\n",
    "                data = data.permute(1,0,2,3)\n",
    "        elif data.dim() == 3 and data.shape[0] in (1,3):\n",
    "            data = data.unsqueeze(1)\n",
    "        else:\n",
    "            raise ValueError(f\"Unexpected tensor shape {data.shape} in {file_path}\")\n",
    "\n",
    "        # Normalize to [-1,1]\n",
    "        data = data / 255.0\n",
    "        mean = torch.tensor([0.5, 0.5, 0.5]).view(3,1,1,1)\n",
    "        std  = torch.tensor([0.5, 0.5, 0.5]).view(3,1,1,1)\n",
    "        data = (data - mean) / std\n",
    "\n",
    "        if self.transform:\n",
    "            data = self.transform(data)\n",
    "\n",
    "        label = self.labels[idx]\n",
    "        return data, torch.tensor(label, dtype=torch.long)"
   ]
  },
  {
   "cell_type": "code",
   "execution_count": 24,
   "id": "bb008bdb",
   "metadata": {},
   "outputs": [
    {
     "name": "stdout",
     "output_type": "stream",
     "text": [
      "Classes: {'person': 0, 'snatcher': 1, 'victim': 2}\n",
      "Train samples: 1013\n",
      "Test samples: 127\n"
     ]
    }
   ],
   "source": [
    "train_dir = r\"D:\\I3D\\TRAINDATA\"\n",
    "test_dir  = r\"D:\\I3D\\TESTDATA\"\n",
    "\n",
    "train_dataset = I3DDataset(train_dir)\n",
    "test_dataset  = I3DDataset(test_dir)\n",
    "\n",
    "batch_size = 4\n",
    "train_loader = DataLoader(train_dataset, batch_size=batch_size, shuffle=True, num_workers=0)\n",
    "test_loader  = DataLoader(test_dataset, batch_size=batch_size, shuffle=False, num_workers=0)\n",
    "\n",
    "print(\"Classes:\", train_dataset.class_to_idx)\n",
    "print(\"Train samples:\", len(train_dataset))\n",
    "print(\"Test samples:\", len(test_dataset))\n",
    "\n",
    "# ==============================="
   ]
  },
  {
   "cell_type": "code",
   "execution_count": null,
   "id": "e514881f",
   "metadata": {},
   "outputs": [
    {
     "ename": "EOFError",
     "evalue": "Ran out of input",
     "output_type": "error",
     "traceback": [
      "\u001b[1;31m---------------------------------------------------------------------------\u001b[0m",
      "\u001b[1;31mEOFError\u001b[0m                                  Traceback (most recent call last)",
      "Cell \u001b[1;32mIn[26], line 9\u001b[0m\n\u001b[0;32m      5\u001b[0m i3d \u001b[38;5;241m=\u001b[39m InceptionI3d(num_classes\u001b[38;5;241m=\u001b[39mnum_classes, in_channels\u001b[38;5;241m=\u001b[39m\u001b[38;5;241m3\u001b[39m)\n\u001b[0;32m      7\u001b[0m \u001b[38;5;66;03m# Load pretrained/fine-tuned weights\u001b[39;00m\n\u001b[0;32m      8\u001b[0m \u001b[38;5;66;03m# map_location ensures it works for CPU or CUDA\u001b[39;00m\n\u001b[1;32m----> 9\u001b[0m state_dict \u001b[38;5;241m=\u001b[39m \u001b[43mtorch\u001b[49m\u001b[38;5;241;43m.\u001b[39;49m\u001b[43mload\u001b[49m\u001b[43m(\u001b[49m\u001b[43mpretrained_path\u001b[49m\u001b[43m,\u001b[49m\u001b[43m \u001b[49m\u001b[43mmap_location\u001b[49m\u001b[38;5;241;43m=\u001b[39;49m\u001b[43mdevice\u001b[49m\u001b[43m)\u001b[49m\n\u001b[0;32m     10\u001b[0m i3d\u001b[38;5;241m.\u001b[39mload_state_dict(state_dict)\n\u001b[0;32m     12\u001b[0m \u001b[38;5;66;03m# Send model to device\u001b[39;00m\n",
      "File \u001b[1;32md:\\I3D\\env\\lib\\site-packages\\torch\\serialization.py:1028\u001b[0m, in \u001b[0;36mload\u001b[1;34m(f, map_location, pickle_module, weights_only, mmap, **pickle_load_args)\u001b[0m\n\u001b[0;32m   1026\u001b[0m     \u001b[38;5;28;01mexcept\u001b[39;00m \u001b[38;5;167;01mRuntimeError\u001b[39;00m \u001b[38;5;28;01mas\u001b[39;00m e:\n\u001b[0;32m   1027\u001b[0m         \u001b[38;5;28;01mraise\u001b[39;00m pickle\u001b[38;5;241m.\u001b[39mUnpicklingError(UNSAFE_MESSAGE \u001b[38;5;241m+\u001b[39m \u001b[38;5;28mstr\u001b[39m(e)) \u001b[38;5;28;01mfrom\u001b[39;00m\u001b[38;5;250m \u001b[39m\u001b[38;5;28;01mNone\u001b[39;00m\n\u001b[1;32m-> 1028\u001b[0m \u001b[38;5;28;01mreturn\u001b[39;00m _legacy_load(opened_file, map_location, pickle_module, \u001b[38;5;241m*\u001b[39m\u001b[38;5;241m*\u001b[39mpickle_load_args)\n",
      "File \u001b[1;32md:\\I3D\\env\\lib\\site-packages\\torch\\serialization.py:1246\u001b[0m, in \u001b[0;36m_legacy_load\u001b[1;34m(f, map_location, pickle_module, **pickle_load_args)\u001b[0m\n\u001b[0;32m   1240\u001b[0m \u001b[38;5;28;01mif\u001b[39;00m \u001b[38;5;129;01mnot\u001b[39;00m \u001b[38;5;28mhasattr\u001b[39m(f, \u001b[38;5;124m'\u001b[39m\u001b[38;5;124mreadinto\u001b[39m\u001b[38;5;124m'\u001b[39m) \u001b[38;5;129;01mand\u001b[39;00m (\u001b[38;5;241m3\u001b[39m, \u001b[38;5;241m8\u001b[39m, \u001b[38;5;241m0\u001b[39m) \u001b[38;5;241m<\u001b[39m\u001b[38;5;241m=\u001b[39m sys\u001b[38;5;241m.\u001b[39mversion_info \u001b[38;5;241m<\u001b[39m (\u001b[38;5;241m3\u001b[39m, \u001b[38;5;241m8\u001b[39m, \u001b[38;5;241m2\u001b[39m):\n\u001b[0;32m   1241\u001b[0m     \u001b[38;5;28;01mraise\u001b[39;00m \u001b[38;5;167;01mRuntimeError\u001b[39;00m(\n\u001b[0;32m   1242\u001b[0m         \u001b[38;5;124m\"\u001b[39m\u001b[38;5;124mtorch.load does not work with file-like objects that do not implement readinto on Python 3.8.0 and 3.8.1. \u001b[39m\u001b[38;5;124m\"\u001b[39m\n\u001b[0;32m   1243\u001b[0m         \u001b[38;5;124mf\u001b[39m\u001b[38;5;124m\"\u001b[39m\u001b[38;5;124mReceived object of type \u001b[39m\u001b[38;5;130;01m\\\"\u001b[39;00m\u001b[38;5;132;01m{\u001b[39;00m\u001b[38;5;28mtype\u001b[39m(f)\u001b[38;5;132;01m}\u001b[39;00m\u001b[38;5;130;01m\\\"\u001b[39;00m\u001b[38;5;124m. Please update to Python 3.8.2 or newer to restore this \u001b[39m\u001b[38;5;124m\"\u001b[39m\n\u001b[0;32m   1244\u001b[0m         \u001b[38;5;124m\"\u001b[39m\u001b[38;5;124mfunctionality.\u001b[39m\u001b[38;5;124m\"\u001b[39m)\n\u001b[1;32m-> 1246\u001b[0m magic_number \u001b[38;5;241m=\u001b[39m pickle_module\u001b[38;5;241m.\u001b[39mload(f, \u001b[38;5;241m*\u001b[39m\u001b[38;5;241m*\u001b[39mpickle_load_args)\n\u001b[0;32m   1247\u001b[0m \u001b[38;5;28;01mif\u001b[39;00m magic_number \u001b[38;5;241m!=\u001b[39m MAGIC_NUMBER:\n\u001b[0;32m   1248\u001b[0m     \u001b[38;5;28;01mraise\u001b[39;00m \u001b[38;5;167;01mRuntimeError\u001b[39;00m(\u001b[38;5;124m\"\u001b[39m\u001b[38;5;124mInvalid magic number; corrupt file?\u001b[39m\u001b[38;5;124m\"\u001b[39m)\n",
      "\u001b[1;31mEOFError\u001b[0m: Ran out of input"
     ]
    }
   ],
   "source": [
    "pretrained_path = r\"D:\\I3D\\PRETRAINED\\finetuned_aug_i3d_final (1).pt\"\n",
    "\n",
    "# Initialize the model first\n",
    "num_classes = len(train_dataset.classes)\n",
    "i3d = InceptionI3d(num_classes=num_classes, in_channels=3)\n",
    "\n",
    "# Load pretrained/fine-tuned weights\n",
    "# map_location ensures it works for CPU or CUDA\n",
    "state_dict = torch.load(pretrained_path, map_location=device)\n",
    "i3d.load_state_dict(state_dict)\n",
    "\n",
    "# Send model to device\n",
    "i3d = i3d.to(device)\n",
    "\n",
    "# Redefine criterion and optimizer for fine-tuning\n",
    "criterion = nn.CrossEntropyLoss()\n",
    "optimizer = optim.Adam(i3d.parameters(), lr=1e-5)  # Lower LR for fine-tuning\n",
    "\n",
    "print(\"Loaded pretrained/fine-tuned model and ready for training.\")\n",
    "\n",
    "\n",
    "\n",
    "num_classes = len(train_dataset.classes)\n",
    "i3d = InceptionI3d(num_classes=num_classes, in_channels=3)\n",
    "i3d.replace_logits(num_classes)\n",
    "i3d = i3d.to(device)\n",
    "\n",
    "criterion = nn.CrossEntropyLoss()\n",
    "optimizer = optim.Adam(i3d.parameters(), lr=1e-5)  # Lower LR\n",
    "num_epochs = 20\n",
    "patience = 5\n",
    "\n",
    "# ===============================\n",
    "# Step 5: Training Loop\n",
    "# ===============================\n",
    "best_val_loss = float('inf')\n",
    "trigger_times = 0\n",
    "\n",
    "train_losses, val_losses = [], []\n",
    "train_accuracies, val_accuracies = [], []\n",
    "\n",
    "for epoch in range(num_epochs):\n",
    "    i3d.train()\n",
    "    epoch_loss = 0\n",
    "    correct = 0\n",
    "    total = 0\n",
    "\n",
    "    for batch_idx, (clips, labels) in enumerate(train_loader):\n",
    "        clips, labels = clips.to(device), labels.to(device).long()\n",
    "\n",
    "        optimizer.zero_grad()\n",
    "        outputs = i3d(clips)\n",
    "        outputs = outputs.view(outputs.size(0), -1)\n",
    "\n",
    "        loss = criterion(outputs, labels)\n",
    "        loss.backward()\n",
    "\n",
    "        # Gradient clipping\n",
    "        torch.nn.utils.clip_grad_norm_(i3d.parameters(), max_norm=5)\n",
    "        optimizer.step()\n",
    "\n",
    "        epoch_loss += loss.item()\n",
    "        _, predicted = torch.max(outputs.data, 1)\n",
    "        total += labels.size(0)\n",
    "        correct += (predicted == labels).sum().item()\n",
    "\n",
    "        # Real-time batch loss\n",
    "        sys.stdout.write(f\"\\rEpoch [{epoch+1}/{num_epochs}], Batch [{batch_idx+1}/{len(train_loader)}], Loss: {loss.item():.4f}\")\n",
    "        sys.stdout.flush()\n",
    "\n",
    "    # ================================\n",
    "    # Validation\n",
    "    # ================================\n",
    "    i3d.eval()\n",
    "    val_loss = 0\n",
    "    val_correct = 0\n",
    "    val_total = 0\n",
    "\n",
    "    with torch.no_grad():\n",
    "        for clips, labels in test_loader:\n",
    "            clips, labels = clips.to(device), labels.to(device).long()\n",
    "            outputs = i3d(clips)\n",
    "            outputs = outputs.view(outputs.size(0), -1)\n",
    "            loss = criterion(outputs, labels)\n",
    "            val_loss += loss.item()\n",
    "            _, predicted = torch.max(outputs.data, 1)\n",
    "            val_total += labels.size(0)\n",
    "            val_correct += (predicted == labels).sum().item()\n",
    "\n",
    "    avg_train_loss = epoch_loss / len(train_loader)\n",
    "    train_acc = correct / total\n",
    "    avg_val_loss = val_loss / len(test_loader)\n",
    "    val_acc = val_correct / val_total\n",
    "\n",
    "    train_losses.append(avg_train_loss)\n",
    "    val_losses.append(avg_val_loss)\n",
    "    train_accuracies.append(train_acc)\n",
    "    val_accuracies.append(val_acc)\n",
    "\n",
    "    # ================================\n",
    "    # Print epoch summary\n",
    "    # ================================\n",
    "    sys.stdout.write(f\"\\nEpoch [{epoch+1}/{num_epochs}] Summary:\\n\")\n",
    "    sys.stdout.write(f\"Train Loss: {avg_train_loss:.4f}, Train Acc: {train_acc*100:.2f}%\\n\")\n",
    "    sys.stdout.write(f\"Val Loss: {avg_val_loss:.4f}, Val Acc: {val_acc*100:.2f}%\\n\")\n",
    "    sys.stdout.flush()\n",
    "\n",
    "    # ================================\n",
    "    # Early stopping\n",
    "    # ================================\n",
    "    if avg_val_loss < best_val_loss:\n",
    "        best_val_loss = avg_val_loss\n",
    "        trigger_times = 0\n",
    "        torch.save(i3d.state_dict(), 'best_i3d_model.pth')\n",
    "        sys.stdout.write(\"Saved best model.\\n\")\n",
    "        sys.stdout.flush()\n",
    "    else:\n",
    "        trigger_times += 1\n",
    "        sys.stdout.write(f\"EarlyStopping counter: {trigger_times} out of {patience}\\n\")\n",
    "        sys.stdout.flush()\n",
    "        if trigger_times >= patience:\n",
    "            sys.stdout.write(\"Early stopping triggered.\\n\")\n",
    "            sys.stdout.flush()\n",
    "            break"
   ]
  },
  {
   "cell_type": "code",
   "execution_count": 17,
   "id": "d21277b1",
   "metadata": {},
   "outputs": [
    {
     "name": "stdout",
     "output_type": "stream",
     "text": [
      "Epoch [1/20], Batch [254/254], Loss: 1.0228\n",
      "Epoch [1/20] Summary:\n",
      "Train Loss: 1.1139, Train Accuracy: 38.80%\n",
      "Val Loss: 1.0897, Val Accuracy: 39.37%\n",
      "Saved best model.\n",
      "Epoch [2/20], Batch [254/254], Loss: 1.2496\n",
      "Epoch [2/20] Summary:\n",
      "Train Loss: 1.0977, Train Accuracy: 40.77%\n",
      "Val Loss: 1.1857, Val Accuracy: 39.37%\n",
      "EarlyStopping counter: 1 out of 5\n",
      "Epoch [3/20], Batch [254/254], Loss: 1.0821\n",
      "Epoch [3/20] Summary:\n",
      "Train Loss: 1.0819, Train Accuracy: 42.35%\n",
      "Val Loss: 1.0949, Val Accuracy: 34.65%\n",
      "EarlyStopping counter: 2 out of 5\n",
      "Epoch [4/20], Batch [254/254], Loss: 1.1474\n",
      "Epoch [4/20] Summary:\n",
      "Train Loss: 1.0844, Train Accuracy: 43.53%\n",
      "Val Loss: 6.2514, Val Accuracy: 39.37%\n",
      "EarlyStopping counter: 3 out of 5\n",
      "Epoch [5/20], Batch [254/254], Loss: 0.9051\n",
      "Epoch [5/20] Summary:\n",
      "Train Loss: 1.0829, Train Accuracy: 41.46%\n",
      "Val Loss: 4.4321, Val Accuracy: 39.37%\n",
      "EarlyStopping counter: 4 out of 5\n",
      "Epoch [6/20], Batch [254/254], Loss: 1.3980\n",
      "Epoch [6/20] Summary:\n",
      "Train Loss: 1.0830, Train Accuracy: 43.14%\n",
      "Val Loss: 1.2664, Val Accuracy: 39.37%\n",
      "EarlyStopping counter: 5 out of 5\n",
      "Early stopping triggered. Training stopped.\n"
     ]
    }
   ],
   "source": [
    "import sys\n",
    "\n",
    "num_epochs=20\n",
    "learning_rate = 1e-4\n",
    "patience = 5  # Early stopping patience\n",
    "best_val_loss = float('inf')\n",
    "trigger_times = 0\n",
    "\n",
    "criterion = nn.CrossEntropyLoss()\n",
    "optimizer = optim.Adam(i3d.parameters(), lr=learning_rate)\n",
    "\n",
    "# ================================\n",
    "# Lists to store metrics for plotting\n",
    "# ================================\n",
    "train_losses = []\n",
    "val_losses = []\n",
    "train_accuracies = []\n",
    "val_accuracies = []\n",
    "\n",
    "# ================================\n",
    "# Training Loop with Early Stopping & real-time printing\n",
    "# ================================\n",
    "for epoch in range(num_epochs):\n",
    "    i3d.train()\n",
    "    epoch_loss = 0\n",
    "    correct = 0\n",
    "    total = 0\n",
    "\n",
    "    for batch_idx, (clips, labels) in enumerate(train_loader):\n",
    "        clips, labels = clips.to(device), labels.to(device).long()\n",
    "\n",
    "        optimizer.zero_grad()\n",
    "        outputs = i3d(clips)                   # [B, C, 1, 1, 1]\n",
    "        outputs = outputs.view(outputs.size(0), -1)  # [B, C]\n",
    "\n",
    "        loss = criterion(outputs, labels)\n",
    "        loss.backward()\n",
    "        optimizer.step()\n",
    "\n",
    "        epoch_loss += loss.item()\n",
    "\n",
    "        # Calculate batch accuracy\n",
    "        _, predicted = torch.max(outputs.data, 1)\n",
    "        total += labels.size(0)\n",
    "        correct += (predicted == labels).sum().item()\n",
    "\n",
    "        # Real-time batch loss print\n",
    "        sys.stdout.write(f\"\\rEpoch [{epoch+1}/{num_epochs}], Batch [{batch_idx+1}/{len(train_loader)}], Loss: {loss.item():.4f}\")\n",
    "        sys.stdout.flush()\n",
    "\n",
    "    # ================================\n",
    "    # Validation Step using test_loader\n",
    "    # ================================\n",
    "    i3d.eval()\n",
    "    val_loss = 0\n",
    "    val_correct = 0\n",
    "    val_total = 0\n",
    "\n",
    "    with torch.no_grad():\n",
    "        for clips, labels in test_loader:\n",
    "            clips, labels = clips.to(device), labels.to(device).long()\n",
    "            outputs = i3d(clips)\n",
    "            outputs = outputs.view(outputs.size(0), -1)\n",
    "            loss = criterion(outputs, labels)\n",
    "            val_loss += loss.item()\n",
    "\n",
    "            _, predicted = torch.max(outputs.data, 1)\n",
    "            val_total += labels.size(0)\n",
    "            val_correct += (predicted == labels).sum().item()\n",
    "\n",
    "    # ================================\n",
    "    # Calculate epoch metrics\n",
    "    # ================================\n",
    "    avg_train_loss = epoch_loss / len(train_loader)\n",
    "    train_acc = correct / total\n",
    "    avg_val_loss = val_loss / len(test_loader)\n",
    "    val_acc = val_correct / val_total\n",
    "\n",
    "    # Save metrics for plotting\n",
    "    train_losses.append(avg_train_loss)\n",
    "    val_losses.append(avg_val_loss)\n",
    "    train_accuracies.append(train_acc)\n",
    "    val_accuracies.append(val_acc)\n",
    "\n",
    "    # Print summary for this epoch\n",
    "    sys.stdout.write(f\"\\nEpoch [{epoch+1}/{num_epochs}] Summary:\\n\")\n",
    "    sys.stdout.write(f\"Train Loss: {avg_train_loss:.4f}, Train Accuracy: {train_acc*100:.2f}%\\n\")\n",
    "    sys.stdout.write(f\"Val Loss: {avg_val_loss:.4f}, Val Accuracy: {val_acc*100:.2f}%\\n\")\n",
    "    sys.stdout.flush()\n",
    "\n",
    "    # ================================\n",
    "    # Early Stopping\n",
    "    # ================================\n",
    "    if avg_val_loss < best_val_loss:\n",
    "        best_val_loss = avg_val_loss\n",
    "        trigger_times = 0\n",
    "        torch.save(i3d.state_dict(), 'best_i3d_model.pth')  # save best model\n",
    "        sys.stdout.write(\"Saved best model.\\n\")\n",
    "        sys.stdout.flush()\n",
    "    else:\n",
    "        trigger_times += 1\n",
    "        sys.stdout.write(f\"EarlyStopping counter: {trigger_times} out of {patience}\\n\")\n",
    "        sys.stdout.flush()\n",
    "        if trigger_times >= patience:\n",
    "            sys.stdout.write(\"Early stopping triggered. Training stopped.\\n\")\n",
    "            sys.stdout.flush()\n",
    "            break\n"
   ]
  },
  {
   "cell_type": "code",
   "execution_count": 18,
   "id": "5eab2ab1",
   "metadata": {},
   "outputs": [],
   "source": [
    "from sklearn.metrics import confusion_matrix, classification_report\n",
    "import torch\n",
    "import numpy as np\n",
    "\n",
    "all_preds = []\n",
    "all_labels = []\n",
    "\n",
    "with torch.no_grad():\n",
    "    for clips, labels in test_loader:\n",
    "        clips, labels = clips.to(device), labels.to(device)\n",
    "        outputs = i3d(clips).view(clips.size(0), -1)\n",
    "        _, preds = torch.max(outputs.data, 1)\n",
    "        all_preds.extend(preds.cpu().numpy())\n",
    "        all_labels.extend(labels.cpu().numpy())\n",
    "\n",
    "all_preds = np.array(all_preds)\n",
    "all_labels = np.array(all_labels)\n"
   ]
  },
  {
   "cell_type": "code",
   "execution_count": 19,
   "id": "fa2e0b33",
   "metadata": {},
   "outputs": [
    {
     "name": "stdout",
     "output_type": "stream",
     "text": [
      "Test Accuracy: 39.37%\n"
     ]
    }
   ],
   "source": [
    "accuracy = np.mean(all_preds == all_labels)\n",
    "print(f\"Test Accuracy: {accuracy*100:.2f}%\")\n"
   ]
  },
  {
   "cell_type": "code",
   "execution_count": 20,
   "id": "52ce4570",
   "metadata": {},
   "outputs": [
    {
     "data": {
      "image/png": "[encoded data removed]",
      "text/plain": [
       "<Figure size 640x480 with 2 Axes>"
      ]
     },
     "metadata": {},
     "output_type": "display_data"
    }
   ],
   "source": [
    "import matplotlib.pyplot as plt\n",
    "import seaborn as sns\n",
    "from sklearn.metrics import ConfusionMatrixDisplay\n",
    "\n",
    "cm = confusion_matrix(all_labels, all_preds)\n",
    "disp = ConfusionMatrixDisplay(confusion_matrix=cm, display_labels=train_dataset.classes)\n",
    "disp.plot(cmap=plt.cm.Blues)\n",
    "plt.title(\"Confusion Matrix\")\n",
    "plt.show()\n"
   ]
  },
  {
   "cell_type": "code",
   "execution_count": 21,
   "id": "31d32d22",
   "metadata": {},
   "outputs": [
    {
     "name": "stdout",
     "output_type": "stream",
     "text": [
      "              precision    recall  f1-score   support\n",
      "\n",
      "      person       0.39      1.00      0.56        50\n",
      "    snatcher       0.00      0.00      0.00        33\n",
      "      victim       0.00      0.00      0.00        44\n",
      "\n",
      "    accuracy                           0.39       127\n",
      "   macro avg       0.13      0.33      0.19       127\n",
      "weighted avg       0.16      0.39      0.22       127\n",
      "\n"
     ]
    },
    {
     "name": "stderr",
     "output_type": "stream",
     "text": [
      "d:\\I3D\\env\\lib\\site-packages\\sklearn\\metrics\\_classification.py:1731: UndefinedMetricWarning: Precision is ill-defined and being set to 0.0 in labels with no predicted samples. Use `zero_division` parameter to control this behavior.\n",
      "  _warn_prf(average, modifier, f\"{metric.capitalize()} is\", result.shape[0])\n",
      "d:\\I3D\\env\\lib\\site-packages\\sklearn\\metrics\\_classification.py:1731: UndefinedMetricWarning: Precision is ill-defined and being set to 0.0 in labels with no predicted samples. Use `zero_division` parameter to control this behavior.\n",
      "  _warn_prf(average, modifier, f\"{metric.capitalize()} is\", result.shape[0])\n",
      "d:\\I3D\\env\\lib\\site-packages\\sklearn\\metrics\\_classification.py:1731: UndefinedMetricWarning: Precision is ill-defined and being set to 0.0 in labels with no predicted samples. Use `zero_division` parameter to control this behavior.\n",
      "  _warn_prf(average, modifier, f\"{metric.capitalize()} is\", result.shape[0])\n"
     ]
    }
   ],
   "source": [
    "report = classification_report(all_labels, all_preds, target_names=train_dataset.classes)\n",
    "print(report)\n"
   ]
  },
  {
   "cell_type": "code",
   "execution_count": 22,
   "id": "8acf7b1d",
   "metadata": {},
   "outputs": [
    {
     "data": {
      "image/png": "[encoded data removed]",
      "text/plain": [
       "<Figure size 1000x400 with 1 Axes>"
      ]
     },
     "metadata": {},
     "output_type": "display_data"
    },
    {
     "data": {
      "image/png": "[encoded data removed]",
      "text/plain": [
       "<Figure size 1000x400 with 1 Axes>"
      ]
     },
     "metadata": {},
     "output_type": "display_data"
    }
   ],
   "source": [
    "import matplotlib.pyplot as plt\n",
    "\n",
    "# Loss Curve\n",
    "plt.figure(figsize=(10,4))\n",
    "plt.plot(train_losses, label=\"Train Loss\")\n",
    "plt.plot(val_losses, label=\"Validation Loss\")\n",
    "plt.xlabel(\"Epoch\")\n",
    "plt.ylabel(\"Loss\")\n",
    "plt.title(\"Loss Curve\")\n",
    "plt.legend()\n",
    "plt.show()\n",
    "\n",
    "# Accuracy Curve\n",
    "plt.figure(figsize=(10,4))\n",
    "plt.plot([x*100 for x in train_accuracies], label=\"Train Accuracy\")\n",
    "plt.plot([x*100 for x in val_accuracies], label=\"Validation Accuracy\")\n",
    "plt.xlabel(\"Epoch\")\n",
    "plt.ylabel(\"Accuracy (%)\")\n",
    "plt.title(\"Accuracy Curve\")\n",
    "plt.legend()\n",
    "plt.show()\n"
   ]
  },
  {
   "cell_type": "code",
   "execution_count": 1,
   "id": "dd976a48",
   "metadata": {},
   "outputs": [
    {
     "name": "stderr",
     "output_type": "stream",
     "text": [
      "Using cache found in C:\\Users\\Avijit/.cache\\torch\\hub\\facebookresearch_pytorchvideo_main\n"
     ]
    },
    {
     "name": "stdout",
     "output_type": "stream",
     "text": [
      "Loaded 914 training samples and 226 validation samples.\n",
      "Class Counts (0, 1, 2): [256 253 405]\n",
      "Loss Weights (0, 1, 2): [3.57 3.61 2.26]\n"
     ]
    }
   ],
   "source": [
    "import os, random, time\n",
    "from glob import glob\n",
    "import numpy as np\n",
    "import torch\n",
    "import torch.nn as nn\n",
    "from torch.utils.data import Dataset, DataLoader\n",
    "from sklearn.metrics import (\n",
    "    accuracy_score, precision_recall_fscore_support, confusion_matrix, classification_report\n",
    ")\n",
    "from torch.cuda.amp import autocast, GradScaler\n",
    "from tqdm import tqdm\n",
    "import matplotlib.pyplot as plt\n",
    "import seaborn as sns\n",
    "import sys # Imported for sys.stdout.write()\n",
    "\n",
    "# Use StepLR for stabilizing convergence\n",
    "from torch.optim.lr_scheduler import StepLR \n",
    "\n",
    "MAX_EPOCHS = 50 # Unified max epochs\n",
    "\n",
    "# === 2. Dataset (MODIFIED for 3 classes) ===\n",
    "class PtClipDataset(Dataset):\n",
    "    CLASS_MAP = {\n",
    "        \"snatcher\": 0,     # Index 0\n",
    "        \"victim\": 1,       # Index 1\n",
    "        \"person\": 2        # Index 2 (Normal/Bystander)\n",
    "    }\n",
    "    \n",
    "    def __init__(self, root, split=\"TRAINDATA\"): \n",
    "        self.samples = []\n",
    "        \n",
    "        split_path = os.path.join(root, split)\n",
    "        if not os.path.isdir(split_path):\n",
    "            sys.stdout.write(f\"Error: Split directory not found at {split_path}\\n\")\n",
    "            return\n",
    "\n",
    "        for folder_name, class_index in self.CLASS_MAP.items():\n",
    "            folder = os.path.join(split_path, folder_name)\n",
    "            if not os.path.isdir(folder):\n",
    "                sys.stdout.write(f\"Warning: Class folder not found at {folder}\\n\")\n",
    "                continue\n",
    "            \n",
    "            for f in glob(os.path.join(folder, \"*.pt\")):\n",
    "                self.samples.append((f, class_index))\n",
    "        \n",
    "        random.shuffle(self.samples)\n",
    "\n",
    "    def __len__(self):\n",
    "        return len(self.samples)\n",
    "\n",
    "    def __getitem__(self, idx):\n",
    "        path, label = self.samples[idx]\n",
    "        clip = torch.load(path, map_location='cpu').float()\n",
    "        return clip, label\n",
    "    \n",
    "    def get_labels(self):\n",
    "        return [label for _, label in self.samples]\n",
    "\n",
    "# === 3. Load pretrained I3D (FIX: Freeze Layers) ===\n",
    "num_classes = 3 \n",
    "model = torch.hub.load(\"facebookresearch/pytorchvideo\", \"i3d_r50\", pretrained=True)\n",
    "\n",
    "# 🔥 FIX: Freeze all layers except the last two blocks (5 and 6)\n",
    "# This prevents overfitting by limiting the changes to high-level features\n",
    "for name, param in model.named_parameters():\n",
    "    # Only allow gradients for the classification layers or the last two stages\n",
    "    if name.startswith('blocks.5') or name.startswith('blocks.6'):\n",
    "        param.requires_grad = True\n",
    "    else:\n",
    "        param.requires_grad = False\n",
    "\n",
    "# ✅ Replace last layer to output 3 classes\n",
    "model.blocks[6].proj = nn.Linear(model.blocks[6].proj.in_features, num_classes)\n",
    "\n",
    "# Set device and move model to GPU\n",
    "device = torch.device(\"cuda\" if torch.cuda.is_available() else \"cpu\")\n",
    "model = model.to(device)\n",
    "\n",
    "# === 4. Training setup (IMBALANCE, LR, BATCH_SIZE FIXES) ===\n",
    "# ----------------------------------------------------------------------\n",
    "data_root = \"D:\\I3D\" \n",
    "classes = [\"Snatcher\", \"Victim\", \"Person\"] \n",
    "train_ds = PtClipDataset(data_root, split=\"TRAINDATA\")\n",
    "val_ds = PtClipDataset(data_root, split=\"TESTDATA\")\n",
    "\n",
    "sys.stdout.write(f\"Loaded {len(train_ds)} training samples and {len(val_ds)} validation samples.\\n\")\n",
    "if len(train_ds) == 0:\n",
    "    raise ValueError(\"Training dataset is empty. Check your D:\\\\I3D\\\\TRAINDATA path and file extensions (.pt).\")\n",
    "\n",
    "# --- IMBALANCE HANDLING: CALCULATE WEIGHTED LOSS ---\n",
    "train_labels = train_ds.get_labels()\n",
    "class_counts = np.bincount(train_labels, minlength=num_classes)\n",
    "total_samples = len(train_labels)\n",
    "class_weights = total_samples / class_counts\n",
    "class_weights_tensor = torch.tensor(class_weights, dtype=torch.float32).to(device)\n",
    "\n",
    "sys.stdout.write(f\"Class Counts (0, 1, 2): {class_counts}\\n\")\n",
    "sys.stdout.write(f\"Loss Weights (0, 1, 2): {class_weights_tensor.cpu().numpy().round(2)}\\n\")\n",
    "# --------------------------------------------------------------------\n",
    "\n",
    "BATCH_SIZE = 2 # 🔥 FIX: Reduced from 4 to 2 for better stability and VRAM usage\n",
    "\n",
    "train_loader = DataLoader(train_ds, batch_size=BATCH_SIZE, shuffle=True, num_workers=0, pin_memory=True, drop_last=True)\n",
    "val_loader = DataLoader(val_ds, batch_size=BATCH_SIZE, shuffle=False, num_workers=0, pin_memory=True)\n",
    "\n",
    "criterion = nn.CrossEntropyLoss(weight=class_weights_tensor)\n",
    "\n",
    "# 🔥 FIX: Reduced initial LR from 1e-3 to 1e-4 for slower, more stable training\n",
    "optimizer = torch.optim.SGD(model.parameters(), lr=0.01) \n",
    "\n",
    "scheduler = StepLR(optimizer, step_size=10, gamma=0.1) \n",
    "\n",
    "scaler = GradScaler()\n",
    "patience = 10\n",
    "best_val_f1 = 0.0\n",
    "no_improve_epochs = 0  "
   ]
  },
  {
   "cell_type": "code",
   "execution_count": 2,
   "id": "ebc98380",
   "metadata": {},
   "outputs": [
    {
     "name": "stdout",
     "output_type": "stream",
     "text": [
      "\n",
      "Epoch 1/50\n"
     ]
    },
    {
     "name": "stderr",
     "output_type": "stream",
     "text": [
      "Training:   0%|          | 0/457 [00:00<?, ?it/s]"
     ]
    },
    {
     "name": "stderr",
     "output_type": "stream",
     "text": [
      "Training: 100%|██████████| 457/457 [01:46<00:00,  4.30it/s]\n",
      "Validation: 100%|██████████| 113/113 [00:32<00:00,  3.43it/s]\n"
     ]
    },
    {
     "name": "stdout",
     "output_type": "stream",
     "text": [
      "Time: 139.3s\n",
      " Train Loss: 0.9937 | Acc: 0.5284 | P: 0.5059 R: 0.5284 F1: 0.5105\n",
      " Val   Loss: 0.9436 | Acc: 0.5796 | P: 0.6310 R: 0.5796 F1: 0.5524\n",
      " 🔥 Saved new best model with F1=0.5524\n",
      "\n",
      "Epoch 2/50\n"
     ]
    },
    {
     "name": "stderr",
     "output_type": "stream",
     "text": [
      "Training: 100%|██████████| 457/457 [01:04<00:00,  7.11it/s]\n",
      "Validation: 100%|██████████| 113/113 [00:21<00:00,  5.24it/s]"
     ]
    },
    {
     "name": "stdout",
     "output_type": "stream",
     "text": [
      "Time: 85.8s\n",
      " Train Loss: 0.8426 | Acc: 0.6269 | P: 0.6252 R: 0.6269 F1: 0.6174\n",
      " Val   Loss: 0.9762 | Acc: 0.5531 | P: 0.6425 R: 0.5531 F1: 0.5500\n",
      " Patience counter: 1/10\n",
      "\n",
      "Epoch 3/50\n"
     ]
    },
    {
     "name": "stderr",
     "output_type": "stream",
     "text": [
      "\n",
      "Training: 100%|██████████| 457/457 [01:07<00:00,  6.80it/s]\n",
      "Validation: 100%|██████████| 113/113 [00:22<00:00,  5.07it/s]\n"
     ]
    },
    {
     "name": "stdout",
     "output_type": "stream",
     "text": [
      "Time: 89.5s\n",
      " Train Loss: 0.7003 | Acc: 0.7221 | P: 0.7251 R: 0.7221 F1: 0.7185\n",
      " Val   Loss: 0.7424 | Acc: 0.7080 | P: 0.7246 R: 0.7080 F1: 0.6994\n",
      " 🔥 Saved new best model with F1=0.6994\n",
      "\n",
      "Epoch 4/50\n"
     ]
    },
    {
     "name": "stderr",
     "output_type": "stream",
     "text": [
      "Training: 100%|██████████| 457/457 [01:07<00:00,  6.80it/s]\n",
      "Validation: 100%|██████████| 113/113 [00:21<00:00,  5.23it/s]\n"
     ]
    },
    {
     "name": "stdout",
     "output_type": "stream",
     "text": [
      "Time: 88.9s\n",
      " Train Loss: 0.5488 | Acc: 0.7856 | P: 0.7860 R: 0.7856 F1: 0.7836\n",
      " Val   Loss: 0.7816 | Acc: 0.7080 | P: 0.7503 R: 0.7080 F1: 0.7007\n",
      " 🔥 Saved new best model with F1=0.7007\n",
      "\n",
      "Epoch 5/50\n"
     ]
    },
    {
     "name": "stderr",
     "output_type": "stream",
     "text": [
      "Training: 100%|██████████| 457/457 [01:24<00:00,  5.40it/s]\n",
      "Validation: 100%|██████████| 113/113 [00:21<00:00,  5.30it/s]"
     ]
    },
    {
     "name": "stdout",
     "output_type": "stream",
     "text": [
      "Time: 106.0s\n",
      " Train Loss: 0.4335 | Acc: 0.8446 | P: 0.8495 R: 0.8446 F1: 0.8442\n",
      " Val   Loss: 0.8964 | Acc: 0.6372 | P: 0.7639 R: 0.6372 F1: 0.6396\n",
      " Patience counter: 1/10\n",
      "\n",
      "Epoch 6/50\n"
     ]
    },
    {
     "name": "stderr",
     "output_type": "stream",
     "text": [
      "\n",
      "Training: 100%|██████████| 457/457 [01:06<00:00,  6.87it/s]\n",
      "Validation: 100%|██████████| 113/113 [00:21<00:00,  5.17it/s]"
     ]
    },
    {
     "name": "stdout",
     "output_type": "stream",
     "text": [
      "Time: 88.4s\n",
      " Train Loss: 0.3455 | Acc: 0.8742 | P: 0.8759 R: 0.8742 F1: 0.8735\n",
      " Val   Loss: 0.8483 | Acc: 0.6814 | P: 0.7249 R: 0.6814 F1: 0.6805\n",
      " Patience counter: 2/10\n",
      "\n",
      "Epoch 7/50\n"
     ]
    },
    {
     "name": "stderr",
     "output_type": "stream",
     "text": [
      "\n",
      "Training: 100%|██████████| 457/457 [01:07<00:00,  6.77it/s]\n",
      "Validation: 100%|██████████| 113/113 [00:21<00:00,  5.27it/s]\n"
     ]
    },
    {
     "name": "stdout",
     "output_type": "stream",
     "text": [
      "Time: 89.0s\n",
      " Train Loss: 0.3147 | Acc: 0.8906 | P: 0.8937 R: 0.8906 F1: 0.8903\n",
      " Val   Loss: 0.7454 | Acc: 0.7832 | P: 0.7918 R: 0.7832 F1: 0.7824\n",
      " 🔥 Saved new best model with F1=0.7824\n",
      "\n",
      "Epoch 8/50\n"
     ]
    },
    {
     "name": "stderr",
     "output_type": "stream",
     "text": [
      "Training: 100%|██████████| 457/457 [01:21<00:00,  5.58it/s]\n",
      "Validation: 100%|██████████| 113/113 [00:24<00:00,  4.61it/s]\n"
     ]
    },
    {
     "name": "stdout",
     "output_type": "stream",
     "text": [
      "Time: 106.5s\n",
      " Train Loss: 0.2528 | Acc: 0.9070 | P: 0.9091 R: 0.9070 F1: 0.9068\n",
      " Val   Loss: 0.6613 | Acc: 0.7788 | P: 0.7799 R: 0.7788 F1: 0.7773\n",
      " Patience counter: 1/10\n",
      "\n",
      "Epoch 9/50\n"
     ]
    },
    {
     "name": "stderr",
     "output_type": "stream",
     "text": [
      "Training: 100%|██████████| 457/457 [01:07<00:00,  6.79it/s]\n",
      "Validation: 100%|██████████| 113/113 [00:21<00:00,  5.19it/s]"
     ]
    },
    {
     "name": "stdout",
     "output_type": "stream",
     "text": [
      "Time: 89.1s\n",
      " Train Loss: 0.1799 | Acc: 0.9289 | P: 0.9296 R: 0.9289 F1: 0.9289\n",
      " Val   Loss: 0.8450 | Acc: 0.7566 | P: 0.7897 R: 0.7566 F1: 0.7513\n",
      " Patience counter: 2/10\n",
      "\n",
      "Epoch 10/50\n"
     ]
    },
    {
     "name": "stderr",
     "output_type": "stream",
     "text": [
      "\n",
      "Training: 100%|██████████| 457/457 [01:09<00:00,  6.60it/s]\n",
      "Validation: 100%|██████████| 113/113 [00:21<00:00,  5.17it/s]"
     ]
    },
    {
     "name": "stdout",
     "output_type": "stream",
     "text": [
      "Time: 91.1s\n",
      " Train Loss: 0.2008 | Acc: 0.9223 | P: 0.9229 R: 0.9223 F1: 0.9224\n",
      " Val   Loss: 0.6610 | Acc: 0.7743 | P: 0.8077 R: 0.7743 F1: 0.7789\n",
      " Patience counter: 3/10\n",
      "\n",
      "Epoch 11/50\n"
     ]
    },
    {
     "name": "stderr",
     "output_type": "stream",
     "text": [
      "\n",
      "Training: 100%|██████████| 457/457 [01:10<00:00,  6.49it/s]\n",
      "Validation: 100%|██████████| 113/113 [00:22<00:00,  5.13it/s]\n"
     ]
    },
    {
     "name": "stdout",
     "output_type": "stream",
     "text": [
      "Time: 92.4s\n",
      " Train Loss: 0.1157 | Acc: 0.9661 | P: 0.9664 R: 0.9661 F1: 0.9661\n",
      " Val   Loss: 0.5932 | Acc: 0.8319 | P: 0.8469 R: 0.8319 F1: 0.8307\n",
      " 🔥 Saved new best model with F1=0.8307\n",
      "\n",
      "Epoch 12/50\n"
     ]
    },
    {
     "name": "stderr",
     "output_type": "stream",
     "text": [
      "Training: 100%|██████████| 457/457 [01:05<00:00,  6.97it/s]\n",
      "Validation: 100%|██████████| 113/113 [00:22<00:00,  5.04it/s]"
     ]
    },
    {
     "name": "stdout",
     "output_type": "stream",
     "text": [
      "Time: 88.0s\n",
      " Train Loss: 0.0911 | Acc: 0.9781 | P: 0.9784 R: 0.9781 F1: 0.9781\n",
      " Val   Loss: 0.6662 | Acc: 0.8009 | P: 0.8317 R: 0.8009 F1: 0.7985\n",
      " Patience counter: 1/10\n",
      "\n",
      "Epoch 13/50\n"
     ]
    },
    {
     "name": "stderr",
     "output_type": "stream",
     "text": [
      "\n",
      "Training: 100%|██████████| 457/457 [01:08<00:00,  6.64it/s]\n",
      "Validation: 100%|██████████| 113/113 [00:22<00:00,  5.10it/s]"
     ]
    },
    {
     "name": "stdout",
     "output_type": "stream",
     "text": [
      "Time: 91.0s\n",
      " Train Loss: 0.0612 | Acc: 0.9891 | P: 0.9892 R: 0.9891 F1: 0.9891\n",
      " Val   Loss: 0.6052 | Acc: 0.8230 | P: 0.8473 R: 0.8230 F1: 0.8204\n",
      " Patience counter: 2/10\n",
      "\n",
      "Epoch 14/50\n"
     ]
    },
    {
     "name": "stderr",
     "output_type": "stream",
     "text": [
      "\n",
      "Training: 100%|██████████| 457/457 [01:11<00:00,  6.40it/s]\n",
      "Validation: 100%|██████████| 113/113 [00:22<00:00,  5.05it/s]\n"
     ]
    },
    {
     "name": "stdout",
     "output_type": "stream",
     "text": [
      "Time: 93.8s\n",
      " Train Loss: 0.0595 | Acc: 0.9858 | P: 0.9859 R: 0.9858 F1: 0.9858\n",
      " Val   Loss: 0.6226 | Acc: 0.8451 | P: 0.8501 R: 0.8451 F1: 0.8446\n",
      " 🔥 Saved new best model with F1=0.8446\n",
      "\n",
      "Epoch 15/50\n"
     ]
    },
    {
     "name": "stderr",
     "output_type": "stream",
     "text": [
      "Training: 100%|██████████| 457/457 [01:06<00:00,  6.90it/s]\n",
      "Validation: 100%|██████████| 113/113 [00:21<00:00,  5.32it/s]\n"
     ]
    },
    {
     "name": "stdout",
     "output_type": "stream",
     "text": [
      "Time: 87.5s\n",
      " Train Loss: 0.0670 | Acc: 0.9836 | P: 0.9838 R: 0.9836 F1: 0.9836\n",
      " Val   Loss: 0.5536 | Acc: 0.8540 | P: 0.8552 R: 0.8540 F1: 0.8541\n",
      " 🔥 Saved new best model with F1=0.8541\n",
      "\n",
      "Epoch 16/50\n"
     ]
    },
    {
     "name": "stderr",
     "output_type": "stream",
     "text": [
      "Training: 100%|██████████| 457/457 [01:10<00:00,  6.50it/s]\n",
      "Validation: 100%|██████████| 113/113 [00:21<00:00,  5.15it/s]\n"
     ]
    },
    {
     "name": "stdout",
     "output_type": "stream",
     "text": [
      "Time: 92.3s\n",
      " Train Loss: 0.0450 | Acc: 0.9912 | P: 0.9914 R: 0.9912 F1: 0.9913\n",
      " Val   Loss: 0.5864 | Acc: 0.8363 | P: 0.8504 R: 0.8363 F1: 0.8358\n",
      " Patience counter: 1/10\n",
      "\n",
      "Epoch 17/50\n"
     ]
    },
    {
     "name": "stderr",
     "output_type": "stream",
     "text": [
      "Training: 100%|██████████| 457/457 [01:06<00:00,  6.85it/s]\n",
      "Validation: 100%|██████████| 113/113 [00:31<00:00,  3.63it/s]\n"
     ]
    },
    {
     "name": "stdout",
     "output_type": "stream",
     "text": [
      "Time: 97.8s\n",
      " Train Loss: 0.0534 | Acc: 0.9858 | P: 0.9859 R: 0.9858 F1: 0.9858\n",
      " Val   Loss: 0.5698 | Acc: 0.8363 | P: 0.8477 R: 0.8363 F1: 0.8351\n",
      " Patience counter: 2/10\n",
      "\n",
      "Epoch 18/50\n"
     ]
    },
    {
     "name": "stderr",
     "output_type": "stream",
     "text": [
      "Training: 100%|██████████| 457/457 [01:28<00:00,  5.16it/s]\n",
      "Validation: 100%|██████████| 113/113 [00:27<00:00,  4.09it/s]\n"
     ]
    },
    {
     "name": "stdout",
     "output_type": "stream",
     "text": [
      "Time: 116.3s\n",
      " Train Loss: 0.0608 | Acc: 0.9836 | P: 0.9837 R: 0.9836 F1: 0.9836\n",
      " Val   Loss: 0.5934 | Acc: 0.8363 | P: 0.8389 R: 0.8363 F1: 0.8352\n",
      " Patience counter: 3/10\n",
      "\n",
      "Epoch 19/50\n"
     ]
    },
    {
     "name": "stderr",
     "output_type": "stream",
     "text": [
      "Training: 100%|██████████| 457/457 [01:29<00:00,  5.11it/s]\n",
      "Validation: 100%|██████████| 113/113 [00:26<00:00,  4.22it/s]\n"
     ]
    },
    {
     "name": "stdout",
     "output_type": "stream",
     "text": [
      "Time: 116.2s\n",
      " Train Loss: 0.0420 | Acc: 0.9902 | P: 0.9902 R: 0.9902 F1: 0.9901\n",
      " Val   Loss: 0.7146 | Acc: 0.7743 | P: 0.8073 R: 0.7743 F1: 0.7667\n",
      " Patience counter: 4/10\n",
      "\n",
      "Epoch 20/50\n"
     ]
    },
    {
     "name": "stderr",
     "output_type": "stream",
     "text": [
      "Training: 100%|██████████| 457/457 [01:12<00:00,  6.34it/s]\n",
      "Validation: 100%|██████████| 113/113 [00:21<00:00,  5.34it/s]"
     ]
    },
    {
     "name": "stdout",
     "output_type": "stream",
     "text": [
      "Time: 93.3s\n",
      " Train Loss: 0.0528 | Acc: 0.9858 | P: 0.9858 R: 0.9858 F1: 0.9858\n",
      " Val   Loss: 0.6143 | Acc: 0.8142 | P: 0.8193 R: 0.8142 F1: 0.8131\n",
      " Patience counter: 5/10\n",
      "\n",
      "Epoch 21/50\n"
     ]
    },
    {
     "name": "stderr",
     "output_type": "stream",
     "text": [
      "\n",
      "Training: 100%|██████████| 457/457 [01:05<00:00,  6.97it/s]\n",
      "Validation: 100%|██████████| 113/113 [00:22<00:00,  5.13it/s]"
     ]
    },
    {
     "name": "stdout",
     "output_type": "stream",
     "text": [
      "Time: 87.6s\n",
      " Train Loss: 0.0433 | Acc: 0.9869 | P: 0.9869 R: 0.9869 F1: 0.9869\n",
      " Val   Loss: 0.6400 | Acc: 0.8274 | P: 0.8399 R: 0.8274 F1: 0.8259\n",
      " Patience counter: 6/10\n",
      "\n",
      "Epoch 22/50\n"
     ]
    },
    {
     "name": "stderr",
     "output_type": "stream",
     "text": [
      "\n",
      "Training: 100%|██████████| 457/457 [01:06<00:00,  6.87it/s]\n",
      "Validation: 100%|██████████| 113/113 [00:21<00:00,  5.15it/s]"
     ]
    },
    {
     "name": "stdout",
     "output_type": "stream",
     "text": [
      "Time: 88.4s\n",
      " Train Loss: 0.0425 | Acc: 0.9869 | P: 0.9869 R: 0.9869 F1: 0.9869\n",
      " Val   Loss: 0.5977 | Acc: 0.8186 | P: 0.8366 R: 0.8186 F1: 0.8162\n",
      " Patience counter: 7/10\n"
     ]
    },
    {
     "name": "stderr",
     "output_type": "stream",
     "text": [
      "\n"
     ]
    },
    {
     "name": "stdout",
     "output_type": "stream",
     "text": [
      "\n",
      "Epoch 23/50\n"
     ]
    },
    {
     "name": "stderr",
     "output_type": "stream",
     "text": [
      "Training: 100%|██████████| 457/457 [01:08<00:00,  6.69it/s]\n",
      "Validation: 100%|██████████| 113/113 [00:21<00:00,  5.22it/s]\n"
     ]
    },
    {
     "name": "stdout",
     "output_type": "stream",
     "text": [
      "Time: 90.0s\n",
      " Train Loss: 0.0437 | Acc: 0.9880 | P: 0.9880 R: 0.9880 F1: 0.9880\n",
      " Val   Loss: 0.6728 | Acc: 0.8274 | P: 0.8278 R: 0.8274 F1: 0.8270\n",
      " Patience counter: 8/10\n",
      "\n",
      "Epoch 24/50\n"
     ]
    },
    {
     "name": "stderr",
     "output_type": "stream",
     "text": [
      "Training: 100%|██████████| 457/457 [01:09<00:00,  6.54it/s]\n",
      "Validation: 100%|██████████| 113/113 [00:22<00:00,  4.98it/s]"
     ]
    },
    {
     "name": "stdout",
     "output_type": "stream",
     "text": [
      "Time: 92.6s\n",
      " Train Loss: 0.0396 | Acc: 0.9945 | P: 0.9946 R: 0.9945 F1: 0.9945\n",
      " Val   Loss: 0.6549 | Acc: 0.8186 | P: 0.8358 R: 0.8186 F1: 0.8159\n",
      " Patience counter: 9/10\n",
      "\n",
      "Epoch 25/50\n"
     ]
    },
    {
     "name": "stderr",
     "output_type": "stream",
     "text": [
      "\n",
      "Training: 100%|██████████| 457/457 [01:08<00:00,  6.65it/s]\n",
      "Validation: 100%|██████████| 113/113 [00:20<00:00,  5.43it/s]\n"
     ]
    },
    {
     "name": "stdout",
     "output_type": "stream",
     "text": [
      "Time: 89.6s\n",
      " Train Loss: 0.0378 | Acc: 0.9891 | P: 0.9891 R: 0.9891 F1: 0.9891\n",
      " Val   Loss: 0.6518 | Acc: 0.8363 | P: 0.8522 R: 0.8363 F1: 0.8356\n",
      " Patience counter: 10/10\n",
      "⏹ Early stopping triggered.\n"
     ]
    }
   ],
   "source": [
    "for epoch in range(1, MAX_EPOCHS + 1): \n",
    "    epoch_start = time.time()\n",
    "    \n",
    "    # --- Print statements converted to sys.stdout.write() and flush() ---\n",
    "    sys.stdout.write(f\"\\nEpoch {epoch}/{MAX_EPOCHS}\\n\")\n",
    "    sys.stdout.flush()\n",
    "\n",
    "    # --- Train ---\n",
    "    model.train()\n",
    "    train_losses, train_preds, train_targs = [], [], []\n",
    "    for clips, labels in tqdm(train_loader, desc=\"Training\"):\n",
    "        clips, labels = clips.to(device), labels.to(device) \n",
    "        optimizer.zero_grad()\n",
    "        with autocast():\n",
    "            outputs = model(clips)\n",
    "            loss = criterion(outputs, labels)\n",
    "        scaler.scale(loss).backward()\n",
    "        scaler.step(optimizer)\n",
    "        scaler.update()\n",
    "        train_losses.append(loss.item())\n",
    "        train_preds += outputs.argmax(dim=1).cpu().tolist()\n",
    "        train_targs += labels.cpu().tolist()\n",
    "\n",
    "    # Apply scheduler step after training epoch\n",
    "    scheduler.step()\n",
    "    \n",
    "    # Train metrics\n",
    "    train_acc = accuracy_score(train_targs, train_preds)\n",
    "    train_prec, train_rec, train_f1, _ = precision_recall_fscore_support(\n",
    "        train_targs, train_preds, average=\"weighted\", zero_division=0\n",
    "    )\n",
    "\n",
    "    # --- Validation ---\n",
    "    model.eval()\n",
    "    val_losses, val_preds, val_targs, val_probs = [], [], [], []\n",
    "    with torch.no_grad():\n",
    "        for clips, labels in tqdm(val_loader, desc=\"Validation\"):\n",
    "            clips, labels = clips.to(device), labels.to(device) \n",
    "            outputs = model(clips)\n",
    "            loss = criterion(outputs, labels)\n",
    "            val_losses.append(loss.item())\n",
    "            probs = torch.softmax(outputs, dim=1)\n",
    "            val_probs += probs.cpu().tolist()\n",
    "            val_preds += outputs.argmax(dim=1).cpu().tolist()\n",
    "            val_targs += labels.cpu().tolist()\n",
    "\n",
    "    # Val metrics\n",
    "    val_acc = accuracy_score(val_targs, val_preds)\n",
    "    val_prec, val_rec, val_f1, _ = precision_recall_fscore_support(\n",
    "        val_targs, val_preds, average=\"weighted\", zero_division=0\n",
    "    )\n",
    "\n",
    "    # Log epoch results\n",
    "    elapsed = time.time() - epoch_start\n",
    "    \n",
    "    # --- Print statements converted to sys.stdout.write() and flush() ---\n",
    "    sys.stdout.write(f\"Time: {elapsed:.1f}s\\n\")\n",
    "    sys.stdout.write(f\" Train Loss: {np.mean(train_losses):.4f} | Acc: {train_acc:.4f} | \"\n",
    "                     f\"P: {train_prec:.4f} R: {train_rec:.4f} F1: {train_f1:.4f}\\n\")\n",
    "    sys.stdout.write(f\" Val   Loss: {np.mean(val_losses):.4f} | Acc: {val_acc:.4f} | \"\n",
    "                     f\"P: {val_prec:.4f} R: {val_rec:.4f} F1: {val_f1:.4f}\\n\")\n",
    "    \n",
    "    # --- Save checkpoints ---\n",
    "    torch.save(model.state_dict(), \"last.pt\") \n",
    "    if val_f1 > best_val_f1:\n",
    "        best_val_f1 = val_f1\n",
    "        no_improve_epochs = 0\n",
    "        torch.save(model.state_dict(), \"aug_data_i3d.pt\")\n",
    "        sys.stdout.write(f\" 🔥 Saved new best model with F1={best_val_f1:.4f}\\n\")\n",
    "    else:\n",
    "        no_improve_epochs += 1\n",
    "        sys.stdout.write(f\" Patience counter: {no_improve_epochs}/{patience}\\n\")\n",
    "        \n",
    "    # Early stopping\n",
    "    if no_improve_epochs >= patience:\n",
    "        sys.stdout.write(\"⏹ Early stopping triggered.\\n\")\n",
    "        \n",
    "    # Flush all output written during this epoch\n",
    "    sys.stdout.flush()\n",
    "    \n",
    "    if no_improve_epochs >= patience:\n",
    "        break"
   ]
  },
  {
   "cell_type": "code",
   "execution_count": 3,
   "id": "72cbd186",
   "metadata": {},
   "outputs": [
    {
     "name": "stdout",
     "output_type": "stream",
     "text": [
      "Loading base I3D model architecture...\n"
     ]
    },
    {
     "name": "stderr",
     "output_type": "stream",
     "text": [
      "Using cache found in C:\\Users\\Avijit/.cache\\torch\\hub\\facebookresearch_pytorchvideo_main\n"
     ]
    },
    {
     "name": "stdout",
     "output_type": "stream",
     "text": [
      "Successfully loaded model and weights.\n",
      "Starting evaluation on 226 validation samples...\n"
     ]
    },
    {
     "name": "stderr",
     "output_type": "stream",
     "text": [
      "Evaluation: 100%|██████████| 113/113 [00:21<00:00,  5.16it/s]\n"
     ]
    },
    {
     "name": "stdout",
     "output_type": "stream",
     "text": [
      "\n",
      "=== FINAL MODEL PERFORMANCE ANALYSIS ===\n",
      "Total Evaluation Time: 21.92s\n",
      "Total Samples: 226\n",
      "\n",
      "--- AGGREGATE METRICS ---\n",
      "Overall Accuracy:   0.8540\n",
      "Macro Avg Precision: 0.8530 | Recall: 0.8500 | F1: 0.8510\n",
      "Weighted Avg P:      0.8552 | Recall: 0.8540 | F1: 0.8541\n",
      "Micro-Avg ROC AUC:   0.9490\n",
      "Weighted-Avg ROC AUC: 0.9457\n",
      "\n",
      "--- Classification Report (Per-Class Metrics) ---\n",
      "              precision    recall  f1-score   support\n",
      "\n",
      "    Snatcher       0.81      0.84      0.82        61\n",
      "      Victim       0.89      0.83      0.86        71\n",
      "      Person       0.86      0.88      0.87        94\n",
      "\n",
      "    accuracy                           0.85       226\n",
      "   macro avg       0.85      0.85      0.85       226\n",
      "weighted avg       0.86      0.85      0.85       226\n",
      "\n",
      "\n",
      "--- Confusion Matrix Data ---\n",
      "[[51  4  6]\n",
      " [ 4 59  8]\n",
      " [ 8  3 83]]\n"
     ]
    },
    {
     "data": {
      "image/png": "[encoded data removed]",
      "text/plain": [
       "<Figure size 800x600 with 2 Axes>"
      ]
     },
     "metadata": {},
     "output_type": "display_data"
    },
    {
     "data": {
      "image/png": "[encoded data removed]",
      "text/plain": [
       "<Figure size 1000x800 with 1 Axes>"
      ]
     },
     "metadata": {},
     "output_type": "display_data"
    },
    {
     "name": "stderr",
     "output_type": "stream",
     "text": [
      "C:\\Users\\Avijit\\AppData\\Local\\Temp\\ipykernel_20584\\2870796727.py:164: FutureWarning: \n",
      "\n",
      "Passing `palette` without assigning `hue` is deprecated and will be removed in v0.14.0. Assign the `x` variable to `hue` and set `legend=False` for the same effect.\n",
      "\n",
      "  sns.barplot(x='Metric', y='Score', data=metrics_df, palette='viridis')\n"
     ]
    },
    {
     "data": {
      "image/png": "[encoded data removed]",
      "text/plain": [
       "<Figure size 1000x600 with 1 Axes>"
      ]
     },
     "metadata": {},
     "output_type": "display_data"
    }
   ],
   "source": [
    "import os, random, time\n",
    "from glob import glob\n",
    "import numpy as np\n",
    "import torch\n",
    "import torch.nn as nn\n",
    "from torch.utils.data import Dataset, DataLoader\n",
    "from sklearn.metrics import (\n",
    "    accuracy_score, precision_recall_fscore_support, confusion_matrix, classification_report,\n",
    "    roc_curve, auc, roc_auc_score\n",
    ")\n",
    "from tqdm import tqdm \n",
    "import matplotlib.pyplot as plt\n",
    "import seaborn as sns\n",
    "import sys\n",
    "import pandas as pd\n",
    "from sklearn.preprocessing import label_binarize\n",
    "\n",
    "# === 1. Essential Setup ===\n",
    "MODEL_PATH = \"D:\\\\I3D\\\\SRC\\\\aug_data_i3d.pt\"\n",
    "DATA_ROOT = \"D:\\\\I3D\"\n",
    "VAL_SPLIT = \"TESTDATA\"\n",
    "num_classes = 3\n",
    "classes = [\"Snatcher\", \"Victim\", \"Person\"] \n",
    "BATCH_SIZE = 2 \n",
    "device = torch.device(\"cuda\" if torch.cuda.is_available() else \"cpu\")\n",
    "\n",
    "# Re-define the Dataset class used during training\n",
    "class PtClipDataset(Dataset):\n",
    "    CLASS_MAP = {\"snatcher\": 0, \"victim\": 1, \"person\": 2}\n",
    "    def __init__(self, root, split=\"TRAINDATA\"): \n",
    "        self.samples = []\n",
    "        split_path = os.path.join(root, split)\n",
    "        if not os.path.isdir(split_path):\n",
    "            sys.stdout.write(f\"Error: Split directory not found at {split_path}\\n\"); return\n",
    "        for folder_name, class_index in self.CLASS_MAP.items():\n",
    "            folder = os.path.join(split_path, folder_name)\n",
    "            if os.path.isdir(folder):\n",
    "                for f in glob(os.path.join(folder, \"*.pt\")):\n",
    "                    self.samples.append((f, class_index))\n",
    "        random.shuffle(self.samples)\n",
    "    def __len__(self): return len(self.samples)\n",
    "    def __getitem__(self, idx):\n",
    "        path, label = self.samples[idx]\n",
    "        clip = torch.load(path, map_location='cpu').float()\n",
    "        return clip, label\n",
    "\n",
    "# === 2. Model Loading and Weight Transfer ===\n",
    "sys.stdout.write(\"Loading base I3D model architecture...\\n\")\n",
    "try:\n",
    "    model = torch.hub.load(\"facebookresearch/pytorchvideo\", \"i3d_r50\", pretrained=True)\n",
    "    model.blocks[6].proj = nn.Linear(model.blocks[6].proj.in_features, num_classes)\n",
    "    model.load_state_dict(torch.load(MODEL_PATH))\n",
    "    model = model.to(device)\n",
    "    model.eval()\n",
    "    sys.stdout.write(f\"Successfully loaded model and weights.\\n\")\n",
    "except Exception as e:\n",
    "    sys.stdout.write(f\"Error loading model: {e}. Please check internet/file path.\\n\")\n",
    "    sys.exit()\n",
    "\n",
    "# === 3. Data Loading ===\n",
    "val_ds = PtClipDataset(DATA_ROOT, split=VAL_SPLIT)\n",
    "val_loader = DataLoader(val_ds, batch_size=BATCH_SIZE, shuffle=False, num_workers=0, pin_memory=True)\n",
    "\n",
    "sys.stdout.write(f\"Starting evaluation on {len(val_ds)} validation samples...\\n\")\n",
    "sys.stdout.flush()\n",
    "\n",
    "# === 4. Evaluation Loop ===\n",
    "all_probs_tensor = [] \n",
    "all_preds, all_labels = [], []\n",
    "start_time = time.time()\n",
    "\n",
    "with torch.no_grad():\n",
    "    for clips, labels in tqdm(val_loader, desc=\"Evaluation\"):\n",
    "        clips, labels = clips.to(device), labels.to(device)\n",
    "        outputs = model(clips)\n",
    "        probs = torch.softmax(outputs, dim=1)\n",
    "        \n",
    "        all_probs_tensor.append(probs.cpu())\n",
    "        all_labels += labels.cpu().tolist()\n",
    "        all_preds += outputs.argmax(dim=1).cpu().tolist()\n",
    "\n",
    "# Convert data for sklearn\n",
    "all_labels = np.array(all_labels)\n",
    "all_preds = np.array(all_preds)\n",
    "all_probs_np = torch.cat(all_probs_tensor).numpy()\n",
    "elapsed_time = time.time() - start_time\n",
    "\n",
    "# === 5. Metrics and Reporting (ENHANCED VISUALIZATION) ===\n",
    "\n",
    "# --- AGGREGATE METRICS CALCULATION ---\n",
    "overall_accuracy = accuracy_score(all_labels, all_preds)\n",
    "macro_p, macro_r, macro_f1, _ = precision_recall_fscore_support(all_labels, all_preds, average='macro', zero_division=0)\n",
    "weighted_p, weighted_r, weighted_f1, _ = precision_recall_fscore_support(all_labels, all_preds, average='weighted', zero_division=0)\n",
    "roc_auc_micro = roc_auc_score(all_labels, all_probs_np, average='micro', multi_class='ovr')\n",
    "roc_auc_weighted = roc_auc_score(all_labels, all_probs_np, average='weighted', multi_class='ovr')\n",
    "\n",
    "\n",
    "# --- Print Aggregate Metrics ---\n",
    "sys.stdout.write(\"\\n=== FINAL MODEL PERFORMANCE ANALYSIS ===\\n\")\n",
    "sys.stdout.write(f\"Total Evaluation Time: {elapsed_time:.2f}s\\n\")\n",
    "sys.stdout.write(f\"Total Samples: {len(all_labels)}\\n\")\n",
    "sys.stdout.write(\"\\n--- AGGREGATE METRICS ---\\n\")\n",
    "sys.stdout.write(f\"Overall Accuracy:   {overall_accuracy:.4f}\\n\")\n",
    "sys.stdout.write(f\"Macro Avg Precision: {macro_p:.4f} | Recall: {macro_r:.4f} | F1: {macro_f1:.4f}\\n\")\n",
    "sys.stdout.write(f\"Weighted Avg P:      {weighted_p:.4f} | Recall: {weighted_r:.4f} | F1: {weighted_f1:.4f}\\n\")\n",
    "sys.stdout.write(f\"Micro-Avg ROC AUC:   {roc_auc_micro:.4f}\\n\")\n",
    "sys.stdout.write(f\"Weighted-Avg ROC AUC: {roc_auc_weighted:.4f}\\n\")\n",
    "\n",
    "# 1. Classification Report (TEXT METRICS)\n",
    "sys.stdout.write(\"\\n--- Classification Report (Per-Class Metrics) ---\\n\")\n",
    "report = classification_report(all_labels, all_preds, target_names=classes, zero_division=0)\n",
    "sys.stdout.write(report + \"\\n\")\n",
    "\n",
    "# 2. Confusion Matrix (VISUALIZATION 1)\n",
    "cm = confusion_matrix(all_labels, all_preds)\n",
    "sys.stdout.write(\"\\n--- Confusion Matrix Data ---\\n\")\n",
    "sys.stdout.write(str(cm) + \"\\n\")\n",
    "\n",
    "plt.figure(figsize=(8, 6))\n",
    "sns.heatmap(cm, annot=True, fmt=\"d\", cmap=\"Blues\", xticklabels=classes, yticklabels=classes)\n",
    "plt.title(\"Confusion Matrix (Model vs. Ground Truth)\")\n",
    "plt.xlabel(\"Predicted Class\")\n",
    "plt.ylabel(\"True Class\")\n",
    "plt.show()\n",
    "\n",
    "# 3. Multi-Class ROC Curve (VISUALIZATION 2: Discriminatory Power)\n",
    "y_true_bin = label_binarize(all_labels, classes=range(num_classes))\n",
    "\n",
    "plt.figure(figsize=(10, 8))\n",
    "colors = ['red', 'green', 'blue']\n",
    "lw = 2\n",
    "mean_fpr = np.linspace(0, 1, 100)\n",
    "\n",
    "for i in range(num_classes):\n",
    "    fpr, tpr, _ = roc_curve(y_true_bin[:, i], all_probs_np[:, i])\n",
    "    roc_auc = auc(fpr, tpr)\n",
    "    tpr_interp = np.interp(mean_fpr, fpr, tpr)\n",
    "    \n",
    "    plt.plot(fpr, tpr, color=colors[i], lw=lw,\n",
    "             label=f'ROC curve for {classes[i]} (AUC = {roc_auc:.2f})')\n",
    "\n",
    "fpr_micro, tpr_micro, _ = roc_curve(y_true_bin.ravel(), all_probs_np.ravel())\n",
    "auc_micro = auc(fpr_micro, tpr_micro)\n",
    "\n",
    "plt.plot(fpr_micro, tpr_micro, color='gold', lw=lw + 1, linestyle='--',\n",
    "         label=f'Micro-Avg ROC (AUC = {auc_micro:.2f})')\n",
    "plt.plot([0, 1], [0, 1], 'k--', lw=lw)\n",
    "plt.xlim([0.0, 1.0])\n",
    "plt.ylim([0.0, 1.05])\n",
    "plt.xlabel('False Positive Rate (1 - Specificity)')\n",
    "plt.ylabel('True Positive Rate (Sensitivity)')\n",
    "plt.title('Receiver Operating Characteristic (ROC) Curve')\n",
    "plt.legend(loc=\"lower right\")\n",
    "plt.show()\n",
    "\n",
    "# 4. Bar Plot of Aggregate Metrics (VISUALIZATION 3: Overall Summary)\n",
    "metrics_data = {\n",
    "    'Metric': ['Accuracy', 'Macro F1', 'Weighted F1', 'Micro AUC', 'Weighted AUC'],\n",
    "    'Score': [overall_accuracy, macro_f1, weighted_f1, roc_auc_micro, roc_auc_weighted]\n",
    "}\n",
    "metrics_df = pd.DataFrame(metrics_data)\n",
    "\n",
    "plt.figure(figsize=(10, 6))\n",
    "sns.barplot(x='Metric', y='Score', data=metrics_df, palette='viridis')\n",
    "plt.ylim(0, 1.0)\n",
    "for index, row in metrics_df.iterrows():\n",
    "    plt.text(index, row.Score + 0.01, f'{row.Score:.4f}', color='black', ha=\"center\")\n",
    "plt.title('Aggregate Model Performance Metrics')\n",
    "plt.ylabel('Metric Score')\n",
    "plt.show()\n",
    "\n",
    "sys.stdout.flush()"
   ]
  },
  {
   "cell_type": "code",
   "execution_count": 4,
   "id": "d4fca595",
   "metadata": {},
   "outputs": [
    {
     "name": "stdout",
     "output_type": "stream",
     "text": [
      "\n",
      "=== Final Evaluation ===\n"
     ]
    },
    {
     "name": "stderr",
     "output_type": "stream",
     "text": [
      "Final Eval: 100%|██████████| 32/32 [02:05<00:00,  3.92s/it]\n",
      "d:\\I3D\\env\\lib\\site-packages\\sklearn\\metrics\\_classification.py:1731: UndefinedMetricWarning: Precision is ill-defined and being set to 0.0 in labels with no predicted samples. Use `zero_division` parameter to control this behavior.\n",
      "  _warn_prf(average, modifier, f\"{metric.capitalize()} is\", result.shape[0])\n",
      "d:\\I3D\\env\\lib\\site-packages\\sklearn\\metrics\\_classification.py:1731: UndefinedMetricWarning: Precision is ill-defined and being set to 0.0 in labels with no predicted samples. Use `zero_division` parameter to control this behavior.\n",
      "  _warn_prf(average, modifier, f\"{metric.capitalize()} is\", result.shape[0])\n",
      "d:\\I3D\\env\\lib\\site-packages\\sklearn\\metrics\\_classification.py:1731: UndefinedMetricWarning: Precision is ill-defined and being set to 0.0 in labels with no predicted samples. Use `zero_division` parameter to control this behavior.\n",
      "  _warn_prf(average, modifier, f\"{metric.capitalize()} is\", result.shape[0])\n"
     ]
    },
    {
     "name": "stdout",
     "output_type": "stream",
     "text": [
      "\n",
      "--- Final Classification Report ---\n",
      "              precision    recall  f1-score   support\n",
      "\n",
      "    Snatcher       0.00      0.00      0.00        33\n",
      "      Victim       0.35      1.00      0.51        44\n",
      "      Person       0.00      0.00      0.00        50\n",
      "\n",
      "    accuracy                           0.35       127\n",
      "   macro avg       0.12      0.33      0.17       127\n",
      "weighted avg       0.12      0.35      0.18       127\n",
      "\n"
     ]
    },
    {
     "data": {
      "image/png": "[encoded data removed]",
      "text/plain": [
       "<Figure size 640x480 with 2 Axes>"
      ]
     },
     "metadata": {},
     "output_type": "display_data"
    }
   ],
   "source": [
    "\n",
    "# === 6. Confusion Matrix + Thresholding (MODIFIED for 3 classes) ===\n",
    "print(\"\\n=== Final Evaluation ===\") # Thresholding is typically complex for multi-class, removing specific 0.7 threshold logic\n",
    "model.eval()\n",
    "all_probs, all_preds, all_labels = [], [], []\n",
    "with torch.no_grad():\n",
    "    for clips, labels in tqdm(val_loader, desc=\"Final Eval\"):\n",
    "        clips, labels = clips.to(device), labels.to(device)\n",
    "        outputs = model(clips)\n",
    "        probs = torch.softmax(outputs, dim=1)\n",
    "        all_probs += probs.cpu().tolist()\n",
    "        all_labels += labels.cpu().tolist()\n",
    "\n",
    "# Apply threshold tuning is generally skipped for 3+ classes, using default argmax\n",
    "all_probs = np.array(all_probs)\n",
    "all_labels = np.array(all_labels)\n",
    "\n",
    "# Default argmax predictions for 3 classes\n",
    "default_preds = np.argmax(all_probs, axis=1)\n",
    "\n",
    "print(\"\\n--- Final Classification Report ---\")\n",
    "print(classification_report(all_labels, default_preds, target_names=classes))\n",
    "cm = confusion_matrix(all_labels, default_preds)\n",
    "sns.heatmap(cm, annot=True, fmt=\"d\", cmap=\"Blues\", xticklabels=classes, yticklabels=classes)\n",
    "plt.title(\"Confusion Matrix - 3-Class\")\n",
    "plt.xlabel(\"Predicted\")\n",
    "plt.ylabel(\"True\")\n",
    "plt.show()"
   ]
  },
  {
   "cell_type": "code",
   "execution_count": 6,
   "id": "9a95cf10",
   "metadata": {},
   "outputs": [
    {
     "data": {
      "text/plain": [
       "34.645669291338585"
      ]
     },
     "execution_count": 6,
     "metadata": {},
     "output_type": "execute_result"
    }
   ],
   "source": [
    "from sklearn.metrics import accuracy_score\n",
    "accuracy_score(all_labels, default_preds)*100\n"
   ]
  }
 ],
 "metadata": {
  "kernelspec": {
   "display_name": "Python 3",
   "language": "python",
   "name": "python3"
  },
  "language_info": {
   "codemirror_mode": {
    "name": "ipython",
    "version": 3
   },
   "file_extension": ".py",
   "mimetype": "text/x-python",
   "name": "python",
   "nbconvert_exporter": "python",
   "pygments_lexer": "ipython3",
   "version": "3.10.11"
  }
 },
 "nbformat": 4,
 "nbformat_minor": 5
}
