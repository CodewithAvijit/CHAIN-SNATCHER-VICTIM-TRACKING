{
 "cells": [
  {
   "cell_type": "code",
   "execution_count": 24,
   "id": "eec1e80c",
   "metadata": {},
   "outputs": [
    {
     "name": "stdout",
     "output_type": "stream",
     "text": [
      "Using device: cuda\n"
     ]
    }
   ],
   "source": [
    "import sys\n",
    "sys.path.append(r\"D:\\I3D\\pytorch-i3d\")\n",
    "import os\n",
    "import torch\n",
    "import torch.nn as nn\n",
    "import torch.optim as optim\n",
    "from torch.utils.data import Dataset, DataLoader, WeightedRandomSampler\n",
    "from pytorch_i3d import InceptionI3d\n",
    "from tqdm import tqdm\n",
    "from collections import Counter\n",
    "\n",
    "# -------------------------------\n",
    "# CUSTOM PRINT\n",
    "# -------------------------------\n",
    "def custom_print(msg):\n",
    "    sys.stdout.write(msg + \"\\n\")\n",
    "    sys.stdout.flush()\n",
    "\n",
    "# -------------------------------\n",
    "# CONFIG\n",
    "# -------------------------------\n",
    "dataset_path = r\"D:\\I3D\\yashtidataset\"\n",
    "save_model_path = r\"D:\\I3D\\MODEL\\i3d_trained.pt\"\n",
    "batch_size = 4\n",
    "max_epochs = 50\n",
    "learning_rate = 1e-4\n",
    "patience = 10  # Early stopping patience\n",
    "device = torch.device(\"cuda\" if torch.cuda.is_available() else \"cpu\")\n",
    "custom_print(f\"Using device: {device}\")\n",
    "\n",
    "# -------------------------------\n",
    "# CUSTOM DATASET\n",
    "# -------------------------------\n",
    "class VideoClipDataset(Dataset):\n",
    "    def __init__(self, data_root):\n",
    "        self.clip_paths = []\n",
    "        self.labels = []\n",
    "        self.class_names = sorted(os.listdir(data_root))\n",
    "        self.class_to_idx = {cls: i for i, cls in enumerate(self.class_names)}\n",
    "\n",
    "        custom_print(f\"📁 Found classes: {self.class_names}\")\n",
    "\n",
    "        # Load all .pt clips\n",
    "        for cls in self.class_names:\n",
    "            folder = os.path.join(data_root, cls)\n",
    "            for f in os.listdir(folder):\n",
    "                if f.endswith(\".pt\"):\n",
    "                    self.clip_paths.append(os.path.join(folder, f))\n",
    "                    self.labels.append(self.class_to_idx[cls])\n",
    "\n",
    "        # Handle class imbalance\n",
    "        label_counts = Counter(self.labels)\n",
    "        total = len(self.labels)\n",
    "        num_classes = len(label_counts)\n",
    "\n",
    "        # Compute class weights inversely proportional to frequency\n",
    "        self.class_weights = {cls: total / (num_classes * count) for cls, count in label_counts.items()}\n",
    "        # Assign sample weight for each instance\n",
    "        self.sample_weights = [self.class_weights[label] for label in self.labels]\n",
    "\n",
    "        custom_print(f\"⚖️ Class balance: {dict(label_counts)}\")\n",
    "        custom_print(f\"🧮 Computed class weights: {self.class_weights}\")\n",
    "\n",
    "    def __len__(self):\n",
    "        return len(self.clip_paths)\n",
    "\n",
    "    def __getitem__(self, idx):\n",
    "        clip = torch.load(self.clip_paths[idx], map_location=\"cpu\").float()\n",
    "        label = self.labels[idx]\n",
    "        return clip, label\n",
    "\n",
    "    def get_sampler(self):\n",
    "        \"\"\"Return a WeightedRandomSampler to handle class imbalance\"\"\"\n",
    "        return WeightedRandomSampler(\n",
    "            weights=self.sample_weights,\n",
    "            num_samples=len(self.sample_weights),\n",
    "            replacement=True\n",
    "        )\n"
   ]
  },
  {
   "cell_type": "code",
   "execution_count": 25,
   "id": "97070116",
   "metadata": {},
   "outputs": [
    {
     "name": "stdout",
     "output_type": "stream",
     "text": [
      "📁 Found classes: ['person', 'snatcher', 'victim']\n",
      "⚖️ Class balance: {0: 791, 1: 297, 2: 425}\n",
      "🧮 Computed class weights: {0: 0.6375895490939739, 1: 1.6980920314253647, 2: 1.1866666666666668}\n",
      "Total clips: 1513 | Classes: 3\n",
      "⚖️ Using WeightedRandomSampler to handle class imbalance\n"
     ]
    }
   ],
   "source": [
    "\n",
    "# -------------------------------\n",
    "# LOAD DATA\n",
    "# -------------------------------\n",
    "train_dataset = VideoClipDataset(dataset_path)\n",
    "sampler = train_dataset.get_sampler()\n",
    "train_loader = DataLoader(train_dataset, batch_size=batch_size, sampler=sampler)\n",
    "num_classes = len(train_dataset.class_names)\n",
    "custom_print(f\"Total clips: {len(train_dataset)} | Classes: {num_classes}\")\n",
    "custom_print(\"⚖️ Using WeightedRandomSampler to handle class imbalance\")\n",
    "\n",
    "# -------------------------------\n",
    "# MODEL SETUP\n",
    "# -------------------------------\n",
    "i3d = InceptionI3d(400, in_channels=32)\n",
    "i3d.replace_logits(num_classes)\n",
    "i3d.avg_pool = nn.AvgPool3d(kernel_size=(1, 7, 7), stride=1)\n",
    "i3d = i3d.to(device)\n",
    "\n",
    "criterion = nn.CrossEntropyLoss()\n",
    "optimizer = optim.Adam(i3d.parameters(), lr=learning_rate)"
   ]
  },
  {
   "cell_type": "code",
   "execution_count": 26,
   "id": "d32b1c48",
   "metadata": {},
   "outputs": [
    {
     "name": "stdout",
     "output_type": "stream",
     "text": [
      "🚀 Starting training with early stopping...\n"
     ]
    },
    {
     "name": "stderr",
     "output_type": "stream",
     "text": [
      "Epoch [1/50]: 100%|████████████████████████| 379/379 [00:58<00:00,  6.48it/s, Loss=0.7859]"
     ]
    },
    {
     "name": "stdout",
     "output_type": "stream",
     "text": [
      "Epoch [1/50] | Avg Loss: 1.1337 | Accuracy: 36.75%\n",
      "💾 Best model updated (Epoch 1) with accuracy 36.75%\n"
     ]
    },
    {
     "name": "stderr",
     "output_type": "stream",
     "text": [
      "\n",
      "Epoch [2/50]: 100%|████████████████████████| 379/379 [00:56<00:00,  6.71it/s, Loss=1.1117]"
     ]
    },
    {
     "name": "stdout",
     "output_type": "stream",
     "text": [
      "Epoch [2/50] | Avg Loss: 1.1129 | Accuracy: 38.40%\n",
      "💾 Best model updated (Epoch 2) with accuracy 38.40%\n"
     ]
    },
    {
     "name": "stderr",
     "output_type": "stream",
     "text": [
      "\n",
      "Epoch [3/50]: 100%|████████████████████████| 379/379 [00:56<00:00,  6.67it/s, Loss=1.0430]"
     ]
    },
    {
     "name": "stdout",
     "output_type": "stream",
     "text": [
      "Epoch [3/50] | Avg Loss: 1.1028 | Accuracy: 39.92%\n",
      "💾 Best model updated (Epoch 3) with accuracy 39.92%\n"
     ]
    },
    {
     "name": "stderr",
     "output_type": "stream",
     "text": [
      "\n",
      "Epoch [4/50]: 100%|████████████████████████| 379/379 [00:56<00:00,  6.69it/s, Loss=1.1897]"
     ]
    },
    {
     "name": "stdout",
     "output_type": "stream",
     "text": [
      "Epoch [4/50] | Avg Loss: 1.0963 | Accuracy: 39.99%\n",
      "💾 Best model updated (Epoch 4) with accuracy 39.99%\n"
     ]
    },
    {
     "name": "stderr",
     "output_type": "stream",
     "text": [
      "\n",
      "Epoch [5/50]: 100%|████████████████████████| 379/379 [00:56<00:00,  6.68it/s, Loss=1.0824]"
     ]
    },
    {
     "name": "stdout",
     "output_type": "stream",
     "text": [
      "Epoch [5/50] | Avg Loss: 1.0813 | Accuracy: 41.51%\n"
     ]
    },
    {
     "name": "stderr",
     "output_type": "stream",
     "text": [
      "\n"
     ]
    },
    {
     "name": "stdout",
     "output_type": "stream",
     "text": [
      "💾 Best model updated (Epoch 5) with accuracy 41.51%\n"
     ]
    },
    {
     "name": "stderr",
     "output_type": "stream",
     "text": [
      "Epoch [6/50]: 100%|████████████████████████| 379/379 [00:57<00:00,  6.57it/s, Loss=1.3551]"
     ]
    },
    {
     "name": "stdout",
     "output_type": "stream",
     "text": [
      "Epoch [6/50] | Avg Loss: 1.0846 | Accuracy: 40.85%\n",
      "⚠️ No improvement in accuracy for 1/10 epochs\n"
     ]
    },
    {
     "name": "stderr",
     "output_type": "stream",
     "text": [
      "\n",
      "Epoch [7/50]: 100%|████████████████████████| 379/379 [00:56<00:00,  6.71it/s, Loss=0.9113]"
     ]
    },
    {
     "name": "stdout",
     "output_type": "stream",
     "text": [
      "Epoch [7/50] | Avg Loss: 1.0746 | Accuracy: 43.49%\n",
      "💾 Best model updated (Epoch 7) with accuracy 43.49%\n"
     ]
    },
    {
     "name": "stderr",
     "output_type": "stream",
     "text": [
      "\n",
      "Epoch [8/50]: 100%|████████████████████████| 379/379 [00:56<00:00,  6.68it/s, Loss=1.3453]"
     ]
    },
    {
     "name": "stdout",
     "output_type": "stream",
     "text": [
      "Epoch [8/50] | Avg Loss: 1.0646 | Accuracy: 44.68%\n",
      "💾 Best model updated (Epoch 8) with accuracy 44.68%\n"
     ]
    },
    {
     "name": "stderr",
     "output_type": "stream",
     "text": [
      "\n",
      "Epoch [9/50]: 100%|████████████████████████| 379/379 [00:56<00:00,  6.74it/s, Loss=1.0573]"
     ]
    },
    {
     "name": "stdout",
     "output_type": "stream",
     "text": [
      "Epoch [9/50] | Avg Loss: 1.0511 | Accuracy: 44.88%\n",
      "💾 Best model updated (Epoch 9) with accuracy 44.88%\n"
     ]
    },
    {
     "name": "stderr",
     "output_type": "stream",
     "text": [
      "\n",
      "Epoch [10/50]: 100%|███████████████████████| 379/379 [00:56<00:00,  6.76it/s, Loss=1.1360]"
     ]
    },
    {
     "name": "stdout",
     "output_type": "stream",
     "text": [
      "Epoch [10/50] | Avg Loss: 1.0797 | Accuracy: 42.76%\n",
      "⚠️ No improvement in accuracy for 1/10 epochs\n"
     ]
    },
    {
     "name": "stderr",
     "output_type": "stream",
     "text": [
      "\n",
      "Epoch [11/50]: 100%|███████████████████████| 379/379 [00:56<00:00,  6.77it/s, Loss=1.3897]"
     ]
    },
    {
     "name": "stdout",
     "output_type": "stream",
     "text": [
      "Epoch [11/50] | Avg Loss: 1.0742 | Accuracy: 43.82%\n",
      "⚠️ No improvement in accuracy for 2/10 epochs\n"
     ]
    },
    {
     "name": "stderr",
     "output_type": "stream",
     "text": [
      "\n",
      "Epoch [12/50]: 100%|███████████████████████| 379/379 [00:56<00:00,  6.68it/s, Loss=1.0358]"
     ]
    },
    {
     "name": "stdout",
     "output_type": "stream",
     "text": [
      "Epoch [12/50] | Avg Loss: 1.0494 | Accuracy: 46.73%\n",
      "💾 Best model updated (Epoch 12) with accuracy 46.73%\n"
     ]
    },
    {
     "name": "stderr",
     "output_type": "stream",
     "text": [
      "\n",
      "Epoch [13/50]: 100%|███████████████████████| 379/379 [00:56<00:00,  6.75it/s, Loss=1.0122]"
     ]
    },
    {
     "name": "stdout",
     "output_type": "stream",
     "text": [
      "Epoch [13/50] | Avg Loss: 1.0278 | Accuracy: 48.12%\n"
     ]
    },
    {
     "name": "stderr",
     "output_type": "stream",
     "text": [
      "\n"
     ]
    },
    {
     "name": "stdout",
     "output_type": "stream",
     "text": [
      "💾 Best model updated (Epoch 13) with accuracy 48.12%\n"
     ]
    },
    {
     "name": "stderr",
     "output_type": "stream",
     "text": [
      "Epoch [14/50]: 100%|███████████████████████| 379/379 [00:56<00:00,  6.73it/s, Loss=1.2605]"
     ]
    },
    {
     "name": "stdout",
     "output_type": "stream",
     "text": [
      "Epoch [14/50] | Avg Loss: 1.0646 | Accuracy: 43.56%\n",
      "⚠️ No improvement in accuracy for 1/10 epochs\n"
     ]
    },
    {
     "name": "stderr",
     "output_type": "stream",
     "text": [
      "\n",
      "Epoch [15/50]: 100%|███████████████████████| 379/379 [00:56<00:00,  6.70it/s, Loss=1.0191]"
     ]
    },
    {
     "name": "stdout",
     "output_type": "stream",
     "text": [
      "Epoch [15/50] | Avg Loss: 1.0298 | Accuracy: 45.34%\n",
      "⚠️ No improvement in accuracy for 2/10 epochs\n"
     ]
    },
    {
     "name": "stderr",
     "output_type": "stream",
     "text": [
      "\n",
      "Epoch [16/50]: 100%|███████████████████████| 379/379 [00:55<00:00,  6.83it/s, Loss=1.0947]"
     ]
    },
    {
     "name": "stdout",
     "output_type": "stream",
     "text": [
      "Epoch [16/50] | Avg Loss: 1.0222 | Accuracy: 48.18%\n",
      "💾 Best model updated (Epoch 16) with accuracy 48.18%\n"
     ]
    },
    {
     "name": "stderr",
     "output_type": "stream",
     "text": [
      "\n",
      "Epoch [17/50]: 100%|███████████████████████| 379/379 [00:56<00:00,  6.72it/s, Loss=1.1908]"
     ]
    },
    {
     "name": "stdout",
     "output_type": "stream",
     "text": [
      "Epoch [17/50] | Avg Loss: 1.0146 | Accuracy: 49.11%\n"
     ]
    },
    {
     "name": "stderr",
     "output_type": "stream",
     "text": [
      "\n"
     ]
    },
    {
     "name": "stdout",
     "output_type": "stream",
     "text": [
      "💾 Best model updated (Epoch 17) with accuracy 49.11%\n"
     ]
    },
    {
     "name": "stderr",
     "output_type": "stream",
     "text": [
      "Epoch [18/50]: 100%|███████████████████████| 379/379 [00:56<00:00,  6.69it/s, Loss=1.1138]"
     ]
    },
    {
     "name": "stdout",
     "output_type": "stream",
     "text": [
      "Epoch [18/50] | Avg Loss: 1.0019 | Accuracy: 50.69%\n",
      "💾 Best model updated (Epoch 18) with accuracy 50.69%\n"
     ]
    },
    {
     "name": "stderr",
     "output_type": "stream",
     "text": [
      "\n",
      "Epoch [19/50]: 100%|███████████████████████| 379/379 [00:56<00:00,  6.72it/s, Loss=1.3191]"
     ]
    },
    {
     "name": "stdout",
     "output_type": "stream",
     "text": [
      "Epoch [19/50] | Avg Loss: 0.9900 | Accuracy: 51.42%\n",
      "💾 Best model updated (Epoch 19) with accuracy 51.42%\n"
     ]
    },
    {
     "name": "stderr",
     "output_type": "stream",
     "text": [
      "\n",
      "Epoch [20/50]: 100%|███████████████████████| 379/379 [00:56<00:00,  6.72it/s, Loss=1.0425]"
     ]
    },
    {
     "name": "stdout",
     "output_type": "stream",
     "text": [
      "Epoch [20/50] | Avg Loss: 0.9862 | Accuracy: 52.28%\n",
      "💾 Best model updated (Epoch 20) with accuracy 52.28%\n"
     ]
    },
    {
     "name": "stderr",
     "output_type": "stream",
     "text": [
      "\n",
      "Epoch [21/50]: 100%|███████████████████████| 379/379 [00:55<00:00,  6.79it/s, Loss=1.2459]"
     ]
    },
    {
     "name": "stdout",
     "output_type": "stream",
     "text": [
      "Epoch [21/50] | Avg Loss: 1.0020 | Accuracy: 50.23%\n",
      "⚠️ No improvement in accuracy for 1/10 epochs\n"
     ]
    },
    {
     "name": "stderr",
     "output_type": "stream",
     "text": [
      "\n",
      "Epoch [22/50]: 100%|███████████████████████| 379/379 [00:56<00:00,  6.72it/s, Loss=1.0137]"
     ]
    },
    {
     "name": "stdout",
     "output_type": "stream",
     "text": [
      "Epoch [22/50] | Avg Loss: 0.9687 | Accuracy: 52.48%\n",
      "💾 Best model updated (Epoch 22) with accuracy 52.48%\n"
     ]
    },
    {
     "name": "stderr",
     "output_type": "stream",
     "text": [
      "\n",
      "Epoch [23/50]: 100%|███████████████████████| 379/379 [00:55<00:00,  6.78it/s, Loss=1.1642]"
     ]
    },
    {
     "name": "stdout",
     "output_type": "stream",
     "text": [
      "Epoch [23/50] | Avg Loss: 0.9267 | Accuracy: 56.51%\n",
      "💾 Best model updated (Epoch 23) with accuracy 56.51%\n"
     ]
    },
    {
     "name": "stderr",
     "output_type": "stream",
     "text": [
      "\n",
      "Epoch [24/50]: 100%|███████████████████████| 379/379 [00:56<00:00,  6.77it/s, Loss=0.7891]"
     ]
    },
    {
     "name": "stdout",
     "output_type": "stream",
     "text": [
      "Epoch [24/50] | Avg Loss: 0.9430 | Accuracy: 56.84%\n",
      "💾 Best model updated (Epoch 24) with accuracy 56.84%\n"
     ]
    },
    {
     "name": "stderr",
     "output_type": "stream",
     "text": [
      "\n",
      "Epoch [25/50]: 100%|███████████████████████| 379/379 [00:57<00:00,  6.59it/s, Loss=0.8867]"
     ]
    },
    {
     "name": "stdout",
     "output_type": "stream",
     "text": [
      "Epoch [25/50] | Avg Loss: 0.9113 | Accuracy: 57.83%\n",
      "💾 Best model updated (Epoch 25) with accuracy 57.83%\n"
     ]
    },
    {
     "name": "stderr",
     "output_type": "stream",
     "text": [
      "\n",
      "Epoch [26/50]: 100%|███████████████████████| 379/379 [00:55<00:00,  6.81it/s, Loss=1.1503]"
     ]
    },
    {
     "name": "stdout",
     "output_type": "stream",
     "text": [
      "Epoch [26/50] | Avg Loss: 0.8926 | Accuracy: 59.42%\n",
      "💾 Best model updated (Epoch 26) with accuracy 59.42%\n"
     ]
    },
    {
     "name": "stderr",
     "output_type": "stream",
     "text": [
      "\n",
      "Epoch [27/50]: 100%|███████████████████████| 379/379 [00:55<00:00,  6.78it/s, Loss=0.9772]"
     ]
    },
    {
     "name": "stdout",
     "output_type": "stream",
     "text": [
      "Epoch [27/50] | Avg Loss: 0.8784 | Accuracy: 61.80%\n",
      "💾 Best model updated (Epoch 27) with accuracy 61.80%\n"
     ]
    },
    {
     "name": "stderr",
     "output_type": "stream",
     "text": [
      "\n",
      "Epoch [28/50]: 100%|███████████████████████| 379/379 [00:56<00:00,  6.71it/s, Loss=1.2557]"
     ]
    },
    {
     "name": "stdout",
     "output_type": "stream",
     "text": [
      "Epoch [28/50] | Avg Loss: 0.8559 | Accuracy: 61.20%\n",
      "⚠️ No improvement in accuracy for 1/10 epochs\n"
     ]
    },
    {
     "name": "stderr",
     "output_type": "stream",
     "text": [
      "\n",
      "Epoch [29/50]: 100%|███████████████████████| 379/379 [01:02<00:00,  6.04it/s, Loss=1.2166]"
     ]
    },
    {
     "name": "stdout",
     "output_type": "stream",
     "text": [
      "Epoch [29/50] | Avg Loss: 0.8203 | Accuracy: 64.51%\n"
     ]
    },
    {
     "name": "stderr",
     "output_type": "stream",
     "text": [
      "\n"
     ]
    },
    {
     "name": "stdout",
     "output_type": "stream",
     "text": [
      "💾 Best model updated (Epoch 29) with accuracy 64.51%\n"
     ]
    },
    {
     "name": "stderr",
     "output_type": "stream",
     "text": [
      "Epoch [30/50]: 100%|███████████████████████| 379/379 [01:02<00:00,  6.05it/s, Loss=1.6223]"
     ]
    },
    {
     "name": "stdout",
     "output_type": "stream",
     "text": [
      "Epoch [30/50] | Avg Loss: 0.8252 | Accuracy: 63.71%\n",
      "⚠️ No improvement in accuracy for 1/10 epochs\n"
     ]
    },
    {
     "name": "stderr",
     "output_type": "stream",
     "text": [
      "\n",
      "Epoch [31/50]: 100%|███████████████████████| 379/379 [01:03<00:00,  5.98it/s, Loss=1.0246]"
     ]
    },
    {
     "name": "stdout",
     "output_type": "stream",
     "text": [
      "Epoch [31/50] | Avg Loss: 0.7784 | Accuracy: 66.29%\n",
      "💾 Best model updated (Epoch 31) with accuracy 66.29%\n"
     ]
    },
    {
     "name": "stderr",
     "output_type": "stream",
     "text": [
      "\n",
      "Epoch [32/50]: 100%|███████████████████████| 379/379 [01:03<00:00,  5.92it/s, Loss=0.8795]"
     ]
    },
    {
     "name": "stdout",
     "output_type": "stream",
     "text": [
      "Epoch [32/50] | Avg Loss: 0.7866 | Accuracy: 65.90%\n",
      "⚠️ No improvement in accuracy for 1/10 epochs\n"
     ]
    },
    {
     "name": "stderr",
     "output_type": "stream",
     "text": [
      "\n",
      "Epoch [33/50]: 100%|███████████████████████| 379/379 [00:56<00:00,  6.74it/s, Loss=1.6524]"
     ]
    },
    {
     "name": "stdout",
     "output_type": "stream",
     "text": [
      "Epoch [33/50] | Avg Loss: 0.7500 | Accuracy: 68.94%\n",
      "💾 Best model updated (Epoch 33) with accuracy 68.94%\n"
     ]
    },
    {
     "name": "stderr",
     "output_type": "stream",
     "text": [
      "\n",
      "Epoch [34/50]: 100%|███████████████████████| 379/379 [00:56<00:00,  6.69it/s, Loss=0.9297]"
     ]
    },
    {
     "name": "stdout",
     "output_type": "stream",
     "text": [
      "Epoch [34/50] | Avg Loss: 0.7193 | Accuracy: 68.61%\n",
      "⚠️ No improvement in accuracy for 1/10 epochs\n"
     ]
    },
    {
     "name": "stderr",
     "output_type": "stream",
     "text": [
      "\n",
      "Epoch [35/50]: 100%|███████████████████████| 379/379 [00:55<00:00,  6.78it/s, Loss=0.7040]"
     ]
    },
    {
     "name": "stdout",
     "output_type": "stream",
     "text": [
      "Epoch [35/50] | Avg Loss: 0.6921 | Accuracy: 72.24%\n",
      "💾 Best model updated (Epoch 35) with accuracy 72.24%\n"
     ]
    },
    {
     "name": "stderr",
     "output_type": "stream",
     "text": [
      "\n",
      "Epoch [36/50]: 100%|███████████████████████| 379/379 [00:56<00:00,  6.77it/s, Loss=1.0579]"
     ]
    },
    {
     "name": "stdout",
     "output_type": "stream",
     "text": [
      "Epoch [36/50] | Avg Loss: 0.6913 | Accuracy: 69.60%\n",
      "⚠️ No improvement in accuracy for 1/10 epochs\n"
     ]
    },
    {
     "name": "stderr",
     "output_type": "stream",
     "text": [
      "\n",
      "Epoch [37/50]: 100%|███████████████████████| 379/379 [01:05<00:00,  5.80it/s, Loss=0.9222]"
     ]
    },
    {
     "name": "stdout",
     "output_type": "stream",
     "text": [
      "Epoch [37/50] | Avg Loss: 0.6884 | Accuracy: 71.05%\n",
      "⚠️ No improvement in accuracy for 2/10 epochs\n"
     ]
    },
    {
     "name": "stderr",
     "output_type": "stream",
     "text": [
      "\n",
      "Epoch [38/50]: 100%|███████████████████████| 379/379 [01:11<00:00,  5.28it/s, Loss=1.1200]"
     ]
    },
    {
     "name": "stdout",
     "output_type": "stream",
     "text": [
      "Epoch [38/50] | Avg Loss: 0.6039 | Accuracy: 75.48%\n",
      "💾 Best model updated (Epoch 38) with accuracy 75.48%\n"
     ]
    },
    {
     "name": "stderr",
     "output_type": "stream",
     "text": [
      "\n",
      "Epoch [39/50]: 100%|███████████████████████| 379/379 [01:02<00:00,  6.07it/s, Loss=1.0093]"
     ]
    },
    {
     "name": "stdout",
     "output_type": "stream",
     "text": [
      "Epoch [39/50] | Avg Loss: 0.5987 | Accuracy: 75.81%\n"
     ]
    },
    {
     "name": "stderr",
     "output_type": "stream",
     "text": [
      "\n"
     ]
    },
    {
     "name": "stdout",
     "output_type": "stream",
     "text": [
      "💾 Best model updated (Epoch 39) with accuracy 75.81%\n"
     ]
    },
    {
     "name": "stderr",
     "output_type": "stream",
     "text": [
      "Epoch [40/50]: 100%|███████████████████████| 379/379 [00:59<00:00,  6.36it/s, Loss=1.8846]"
     ]
    },
    {
     "name": "stdout",
     "output_type": "stream",
     "text": [
      "Epoch [40/50] | Avg Loss: 0.5992 | Accuracy: 75.68%\n",
      "⚠️ No improvement in accuracy for 1/10 epochs\n"
     ]
    },
    {
     "name": "stderr",
     "output_type": "stream",
     "text": [
      "\n",
      "Epoch [41/50]: 100%|███████████████████████| 379/379 [00:59<00:00,  6.41it/s, Loss=0.7007]"
     ]
    },
    {
     "name": "stdout",
     "output_type": "stream",
     "text": [
      "Epoch [41/50] | Avg Loss: 0.5708 | Accuracy: 77.00%\n",
      "💾 Best model updated (Epoch 41) with accuracy 77.00%\n"
     ]
    },
    {
     "name": "stderr",
     "output_type": "stream",
     "text": [
      "\n",
      "Epoch [42/50]: 100%|███████████████████████| 379/379 [00:58<00:00,  6.52it/s, Loss=0.7608]"
     ]
    },
    {
     "name": "stdout",
     "output_type": "stream",
     "text": [
      "Epoch [42/50] | Avg Loss: 0.5697 | Accuracy: 77.99%\n",
      "💾 Best model updated (Epoch 42) with accuracy 77.99%\n"
     ]
    },
    {
     "name": "stderr",
     "output_type": "stream",
     "text": [
      "\n",
      "Epoch [43/50]: 100%|███████████████████████| 379/379 [00:58<00:00,  6.50it/s, Loss=0.7355]"
     ]
    },
    {
     "name": "stdout",
     "output_type": "stream",
     "text": [
      "Epoch [43/50] | Avg Loss: 0.5303 | Accuracy: 79.64%\n"
     ]
    },
    {
     "name": "stderr",
     "output_type": "stream",
     "text": [
      "\n"
     ]
    },
    {
     "name": "stdout",
     "output_type": "stream",
     "text": [
      "💾 Best model updated (Epoch 43) with accuracy 79.64%\n"
     ]
    },
    {
     "name": "stderr",
     "output_type": "stream",
     "text": [
      "Epoch [44/50]: 100%|███████████████████████| 379/379 [00:57<00:00,  6.56it/s, Loss=0.7237]"
     ]
    },
    {
     "name": "stdout",
     "output_type": "stream",
     "text": [
      "Epoch [44/50] | Avg Loss: 0.5021 | Accuracy: 80.30%\n",
      "💾 Best model updated (Epoch 44) with accuracy 80.30%\n"
     ]
    },
    {
     "name": "stderr",
     "output_type": "stream",
     "text": [
      "\n",
      "Epoch [45/50]: 100%|███████████████████████| 379/379 [00:58<00:00,  6.50it/s, Loss=0.9568]"
     ]
    },
    {
     "name": "stdout",
     "output_type": "stream",
     "text": [
      "Epoch [45/50] | Avg Loss: 0.4739 | Accuracy: 81.69%\n",
      "💾 Best model updated (Epoch 45) with accuracy 81.69%\n"
     ]
    },
    {
     "name": "stderr",
     "output_type": "stream",
     "text": [
      "\n",
      "Epoch [46/50]: 100%|███████████████████████| 379/379 [00:57<00:00,  6.55it/s, Loss=0.7841]"
     ]
    },
    {
     "name": "stdout",
     "output_type": "stream",
     "text": [
      "Epoch [46/50] | Avg Loss: 0.4731 | Accuracy: 81.89%\n",
      "💾 Best model updated (Epoch 46) with accuracy 81.89%\n"
     ]
    },
    {
     "name": "stderr",
     "output_type": "stream",
     "text": [
      "\n",
      "Epoch [47/50]: 100%|███████████████████████| 379/379 [00:59<00:00,  6.40it/s, Loss=0.5066]"
     ]
    },
    {
     "name": "stdout",
     "output_type": "stream",
     "text": [
      "Epoch [47/50] | Avg Loss: 0.4837 | Accuracy: 80.77%\n",
      "⚠️ No improvement in accuracy for 1/10 epochs\n"
     ]
    },
    {
     "name": "stderr",
     "output_type": "stream",
     "text": [
      "\n",
      "Epoch [48/50]: 100%|███████████████████████| 379/379 [00:59<00:00,  6.40it/s, Loss=0.9269]"
     ]
    },
    {
     "name": "stdout",
     "output_type": "stream",
     "text": [
      "Epoch [48/50] | Avg Loss: 0.4573 | Accuracy: 81.63%\n",
      "⚠️ No improvement in accuracy for 2/10 epochs\n"
     ]
    },
    {
     "name": "stderr",
     "output_type": "stream",
     "text": [
      "\n",
      "Epoch [49/50]: 100%|███████████████████████| 379/379 [00:57<00:00,  6.58it/s, Loss=1.0519]"
     ]
    },
    {
     "name": "stdout",
     "output_type": "stream",
     "text": [
      "Epoch [49/50] | Avg Loss: 0.4385 | Accuracy: 83.74%\n",
      "💾 Best model updated (Epoch 49) with accuracy 83.74%\n"
     ]
    },
    {
     "name": "stderr",
     "output_type": "stream",
     "text": [
      "\n",
      "Epoch [50/50]: 100%|███████████████████████| 379/379 [01:03<00:00,  5.94it/s, Loss=0.5989]"
     ]
    },
    {
     "name": "stdout",
     "output_type": "stream",
     "text": [
      "Epoch [50/50] | Avg Loss: 0.3904 | Accuracy: 84.93%\n"
     ]
    },
    {
     "name": "stderr",
     "output_type": "stream",
     "text": [
      "\n"
     ]
    },
    {
     "name": "stdout",
     "output_type": "stream",
     "text": [
      "💾 Best model updated (Epoch 50) with accuracy 84.93%\n",
      "✅ Training complete. Best model saved at: D:\\I3D\\MODEL\\i3d_trained.pt | Best Accuracy: 84.93%\n"
     ]
    }
   ],
   "source": [
    "# -------------------------------\n",
    "# TRAIN LOOP (early stopping + best model)\n",
    "# -------------------------------\n",
    "custom_print(\"🚀 Starting training with early stopping...\")\n",
    "\n",
    "max_epochs = 50          # maximum number of epochs\n",
    "patience = 10           # stop if loss doesn't improve for 'patience' epochs\n",
    "best_acc = 0.0\n",
    "epochs_no_improve = 0\n",
    "\n",
    "for epoch in range(max_epochs):\n",
    "    i3d.train()\n",
    "    running_loss = 0.0\n",
    "    correct = 0\n",
    "    total = 0\n",
    "\n",
    "    progress_bar = tqdm(train_loader, desc=f\"Epoch [{epoch+1}/{max_epochs}]\", ncols=90)\n",
    "    for clips, labels in progress_bar:\n",
    "        clips, labels = clips.to(device), labels.to(device)\n",
    "        optimizer.zero_grad()\n",
    "        outputs = i3d(clips).squeeze(-1).squeeze(-1).squeeze(-1)\n",
    "        loss = criterion(outputs, labels)\n",
    "        loss.backward()\n",
    "        optimizer.step()\n",
    "\n",
    "        running_loss += loss.item()\n",
    "        _, preds = torch.max(outputs, 1)\n",
    "        correct += (preds == labels).sum().item()\n",
    "        total += labels.size(0)\n",
    "\n",
    "        progress_bar.set_postfix({\"Loss\": f\"{loss.item():.4f}\"})\n",
    "\n",
    "    avg_loss = running_loss / len(train_loader)\n",
    "    acc = 100 * correct / total\n",
    "    custom_print(f\"Epoch [{epoch+1}/{max_epochs}] | Avg Loss: {avg_loss:.4f} | Accuracy: {acc:.2f}%\")\n",
    "\n",
    "    # Early stopping based on accuracy\n",
    "    if acc > best_acc:\n",
    "        best_acc = acc\n",
    "        epochs_no_improve = 0\n",
    "        torch.save(i3d.state_dict(), save_model_path)\n",
    "        custom_print(f\"💾 Best model updated (Epoch {epoch+1}) with accuracy {acc:.2f}%\")\n",
    "    else:\n",
    "        epochs_no_improve += 1\n",
    "        custom_print(f\"⚠️ No improvement in accuracy for {epochs_no_improve}/{patience} epochs\")\n",
    "\n",
    "    if epochs_no_improve >= patience:\n",
    "        custom_print(f\"⏹️ Early stopping triggered at epoch {epoch+1}\")\n",
    "        break\n",
    "\n",
    "custom_print(f\"✅ Training complete. Best model saved at: {save_model_path} | Best Accuracy: {best_acc:.2f}%\")\n"
   ]
  },
  {
   "cell_type": "markdown",
   "id": "f04f0631",
   "metadata": {},
   "source": [
    "FINE TUNED BEST1"
   ]
  },
  {
   "cell_type": "code",
   "execution_count": 37,
   "id": "e8c3bf66",
   "metadata": {},
   "outputs": [
    {
     "name": "stdout",
     "output_type": "stream",
     "text": [
      "Using device: cuda\n"
     ]
    }
   ],
   "source": [
    "import sys\n",
    "sys.path.append(r\"D:\\I3D\\pytorch-i3d\")\n",
    "import os\n",
    "import torch\n",
    "import torch.nn as nn\n",
    "import torchvision.transforms as T\n",
    "import random\n",
    "import torch.optim as optim\n",
    "from torch.utils.data import Dataset, DataLoader, WeightedRandomSampler\n",
    "from pytorch_i3d import InceptionI3d\n",
    "from tqdm import tqdm\n",
    "from collections import Counter\n",
    "from sklearn.metrics import accuracy_score, classification_report, confusion_matrix\n",
    "import matplotlib.pyplot as plt\n",
    "import seaborn as sns\n",
    "\n",
    "# -------------------------------\n",
    "# CUSTOM PRINT\n",
    "# -------------------------------\n",
    "def custom_print(msg):\n",
    "    sys.stdout.write(msg + \"\\n\")\n",
    "    sys.stdout.flush()\n",
    "\n",
    "# -------------------------------\n",
    "# CONFIG\n",
    "# -------------------------------\n",
    "train_path = r\"D:\\I3D\\yashtidataset\"\n",
    "test_path = r\"D:\\I3D\\yashti_test\\Merged dataset\"\n",
    "pretrained_model_path = r\"D:\\I3D\\MODEL\\best1.pt\"\n",
    "fine_tuned_model_path = r\"D:\\I3D\\MODEL\\i3d_finetuned.pt\"\n",
    "\n",
    "batch_size = 4\n",
    "learning_rate = 1e-4\n",
    "max_epochs = 50\n",
    "patience = 10\n",
    "device = torch.device(\"cuda\" if torch.cuda.is_available() else \"cpu\")\n",
    "custom_print(f\"Using device: {device}\")\n",
    "\n",
    "# -------------------------------\n",
    "# DATASET\n",
    "# -------------------------------\n",
    "class VideoClipDatasetAugmented(Dataset):\n",
    "    def __init__(self, data_root, augment=False):\n",
    "        self.clip_paths = []\n",
    "        self.labels = []\n",
    "        self.class_names = sorted(os.listdir(data_root))\n",
    "        self.class_to_idx = {cls: i for i, cls in enumerate(self.class_names)}\n",
    "        self.augment = augment\n",
    "\n",
    "        custom_print(f\"📁 Found classes: {self.class_names}\")\n",
    "\n",
    "        for cls in self.class_names:\n",
    "            folder = os.path.join(data_root, cls)\n",
    "            for f in os.listdir(folder):\n",
    "                if f.endswith(\".pt\"):\n",
    "                    self.clip_paths.append(os.path.join(folder, f))\n",
    "                    self.labels.append(self.class_to_idx[cls])\n",
    "\n",
    "        # Class imbalance handling\n",
    "        label_counts = Counter(self.labels)\n",
    "        total = len(self.labels)\n",
    "        num_classes = len(label_counts)\n",
    "        self.class_weights = {cls: total / (num_classes * count) for cls, count in label_counts.items()}\n",
    "        self.sample_weights = [self.class_weights[label] for label in self.labels]\n",
    "\n",
    "        custom_print(f\"⚖️ Class balance: {dict(label_counts)}\")\n",
    "        custom_print(f\"🧮 Computed class weights: {self.class_weights}\")\n",
    "\n",
    "    def __len__(self):\n",
    "        return len(self.clip_paths)\n",
    "\n",
    "    def __getitem__(self, idx):\n",
    "        clip = torch.load(self.clip_paths[idx], map_location=\"cpu\").float()  # [C, T, H, W]\n",
    "        label = self.labels[idx]\n",
    "\n",
    "        if self.augment:\n",
    "            clip = self.apply_augmentations(clip)\n",
    "\n",
    "        return clip, label\n",
    "\n",
    "    def get_sampler(self):\n",
    "        return WeightedRandomSampler(weights=self.sample_weights,\n",
    "                                     num_samples=len(self.sample_weights),\n",
    "                                     replacement=True)\n",
    "\n",
    "    def apply_augmentations(self, clip):\n",
    "        # Tensor-based spatial augmentations\n",
    "        # Random horizontal flip\n",
    "        if random.random() < 0.5:\n",
    "            clip = torch.flip(clip, dims=[3])  # flip width dimension\n",
    "\n",
    "        # Random brightness adjustment\n",
    "        if random.random() < 0.5:\n",
    "            factor = 0.8 + 0.4 * random.random()  # 0.8 ~ 1.2\n",
    "            clip = clip * factor\n",
    "            clip = torch.clamp(clip, 0, 1.0)\n",
    "\n",
    "        # Temporal augmentation: random frame crop\n",
    "        C, T, H, W = clip.shape\n",
    "        if T > 8:  # choose 8 consecutive frames randomly\n",
    "            start = random.randint(0, T - 8)\n",
    "            clip = clip[:, start:start + 8, :, :]\n",
    "\n",
    "        return clip\n"
   ]
  },
  {
   "cell_type": "code",
   "execution_count": 38,
   "id": "8844f0a8",
   "metadata": {},
   "outputs": [
    {
     "name": "stdout",
     "output_type": "stream",
     "text": [
      "📁 Found classes: ['person', 'snatcher', 'victim']\n",
      "⚖️ Class balance: {0: 791, 1: 297, 2: 425}\n",
      "🧮 Computed class weights: {0: 0.6375895490939739, 1: 1.6980920314253647, 2: 1.1866666666666668}\n",
      "📁 Found classes: ['person', 'snatcher', 'victim']\n",
      "⚖️ Class balance: {0: 138, 1: 61, 2: 130}\n",
      "🧮 Computed class weights: {0: 0.7946859903381642, 1: 1.7978142076502732, 2: 0.8435897435897436}\n",
      "Total train clips: 1513 | Classes: 3\n",
      "Total test clips: 329\n",
      "✅ Loaded pretrained model from D:\\I3D\\MODEL\\best1.pt\n"
     ]
    }
   ],
   "source": [
    "\n",
    "# -------------------------------\n",
    "# LOAD DATA\n",
    "# -------------------------------\n",
    "train_dataset = VideoClipDatasetAugmented(train_path, augment=True)\n",
    "train_sampler = train_dataset.get_sampler()\n",
    "train_loader = DataLoader(train_dataset, batch_size=batch_size, sampler=train_sampler)\n",
    "\n",
    "test_dataset = VideoClipDatasetAugmented(test_path, augment=False)  # no augmentation for test\n",
    "test_loader = DataLoader(test_dataset, batch_size=batch_size, shuffle=False)\n",
    "num_classes = len(train_dataset.class_names)\n",
    "custom_print(f\"Total train clips: {len(train_dataset)} | Classes: {num_classes}\")\n",
    "custom_print(f\"Total test clips: {len(test_dataset)}\")\n",
    "\n",
    "# -------------------------------\n",
    "# MODEL SETUP (load pretrained)\n",
    "# -------------------------------\n",
    "i3d = InceptionI3d(400, in_channels=32)\n",
    "i3d.replace_logits(num_classes)\n",
    "i3d.avg_pool = nn.AvgPool3d(kernel_size=(1, 7, 7), stride=1)\n",
    "i3d = i3d.to(device)\n",
    "\n",
    "# Load pretrained weights\n",
    "state_dict = torch.load(pretrained_model_path, map_location=device)\n",
    "i3d.load_state_dict(state_dict)\n",
    "custom_print(f\"✅ Loaded pretrained model from {pretrained_model_path}\")\n",
    "\n",
    "# -------------------------------\n",
    "# LOSS AND OPTIMIZER\n",
    "# -------------------------------\n",
    "class_weights_tensor = torch.tensor([train_dataset.class_weights[i] for i in range(num_classes)],\n",
    "                                    dtype=torch.float32).to(device)\n",
    "criterion = nn.CrossEntropyLoss(weight=class_weights_tensor)\n",
    "optimizer = optim.Adam(i3d.parameters(), lr=learning_rate)"
   ]
  },
  {
   "cell_type": "code",
   "execution_count": 40,
   "id": "d2cba4cf",
   "metadata": {},
   "outputs": [
    {
     "name": "stdout",
     "output_type": "stream",
     "text": [
      "🚀 Starting fine-tuning with early stopping based on TEST accuracy...\n"
     ]
    },
    {
     "name": "stderr",
     "output_type": "stream",
     "text": [
      "Epoch [1/50]: 100%|████████████████████████| 379/379 [01:23<00:00,  4.54it/s, Loss=1.9041]"
     ]
    },
    {
     "name": "stdout",
     "output_type": "stream",
     "text": [
      "Epoch [1/50] | Avg Loss: 0.6216 | Train Accuracy: 71.71%\n"
     ]
    },
    {
     "name": "stderr",
     "output_type": "stream",
     "text": [
      "\n"
     ]
    },
    {
     "name": "stdout",
     "output_type": "stream",
     "text": [
      "🔹 Test Accuracy: 50.46%\n",
      "💾 Best model updated at epoch 1 with TEST accuracy 50.46%\n"
     ]
    },
    {
     "name": "stderr",
     "output_type": "stream",
     "text": [
      "Epoch [2/50]: 100%|████████████████████████| 379/379 [01:20<00:00,  4.68it/s, Loss=0.1319]"
     ]
    },
    {
     "name": "stdout",
     "output_type": "stream",
     "text": [
      "Epoch [2/50] | Avg Loss: 0.5549 | Train Accuracy: 74.22%\n"
     ]
    },
    {
     "name": "stderr",
     "output_type": "stream",
     "text": [
      "\n"
     ]
    },
    {
     "name": "stdout",
     "output_type": "stream",
     "text": [
      "🔹 Test Accuracy: 47.72%\n",
      "⚠️ No improvement in TEST accuracy for 1/10 epochs\n"
     ]
    },
    {
     "name": "stderr",
     "output_type": "stream",
     "text": [
      "Epoch [3/50]: 100%|████████████████████████| 379/379 [01:21<00:00,  4.66it/s, Loss=0.7640]"
     ]
    },
    {
     "name": "stdout",
     "output_type": "stream",
     "text": [
      "Epoch [3/50] | Avg Loss: 0.6022 | Train Accuracy: 72.64%\n"
     ]
    },
    {
     "name": "stderr",
     "output_type": "stream",
     "text": [
      "\n"
     ]
    },
    {
     "name": "stdout",
     "output_type": "stream",
     "text": [
      "🔹 Test Accuracy: 45.29%\n",
      "⚠️ No improvement in TEST accuracy for 2/10 epochs\n"
     ]
    },
    {
     "name": "stderr",
     "output_type": "stream",
     "text": [
      "Epoch [4/50]: 100%|████████████████████████| 379/379 [01:14<00:00,  5.12it/s, Loss=0.7248]"
     ]
    },
    {
     "name": "stdout",
     "output_type": "stream",
     "text": [
      "Epoch [4/50] | Avg Loss: 0.5248 | Train Accuracy: 75.74%\n"
     ]
    },
    {
     "name": "stderr",
     "output_type": "stream",
     "text": [
      "\n"
     ]
    },
    {
     "name": "stdout",
     "output_type": "stream",
     "text": [
      "🔹 Test Accuracy: 47.72%\n",
      "⚠️ No improvement in TEST accuracy for 3/10 epochs\n"
     ]
    },
    {
     "name": "stderr",
     "output_type": "stream",
     "text": [
      "Epoch [5/50]: 100%|████████████████████████| 379/379 [01:13<00:00,  5.18it/s, Loss=0.5858]"
     ]
    },
    {
     "name": "stdout",
     "output_type": "stream",
     "text": [
      "Epoch [5/50] | Avg Loss: 0.5554 | Train Accuracy: 73.83%\n"
     ]
    },
    {
     "name": "stderr",
     "output_type": "stream",
     "text": [
      "\n"
     ]
    },
    {
     "name": "stdout",
     "output_type": "stream",
     "text": [
      "🔹 Test Accuracy: 58.66%\n",
      "💾 Best model updated at epoch 5 with TEST accuracy 58.66%\n"
     ]
    },
    {
     "name": "stderr",
     "output_type": "stream",
     "text": [
      "Epoch [6/50]: 100%|████████████████████████| 379/379 [01:20<00:00,  4.72it/s, Loss=1.2985]"
     ]
    },
    {
     "name": "stdout",
     "output_type": "stream",
     "text": [
      "Epoch [6/50] | Avg Loss: 0.4618 | Train Accuracy: 79.25%\n"
     ]
    },
    {
     "name": "stderr",
     "output_type": "stream",
     "text": [
      "\n"
     ]
    },
    {
     "name": "stdout",
     "output_type": "stream",
     "text": [
      "🔹 Test Accuracy: 44.98%\n",
      "⚠️ No improvement in TEST accuracy for 1/10 epochs\n"
     ]
    },
    {
     "name": "stderr",
     "output_type": "stream",
     "text": [
      "Epoch [7/50]: 100%|████████████████████████| 379/379 [01:10<00:00,  5.38it/s, Loss=1.2918]"
     ]
    },
    {
     "name": "stdout",
     "output_type": "stream",
     "text": [
      "Epoch [7/50] | Avg Loss: 0.4860 | Train Accuracy: 77.33%\n"
     ]
    },
    {
     "name": "stderr",
     "output_type": "stream",
     "text": [
      "\n"
     ]
    },
    {
     "name": "stdout",
     "output_type": "stream",
     "text": [
      "🔹 Test Accuracy: 49.54%\n",
      "⚠️ No improvement in TEST accuracy for 2/10 epochs\n"
     ]
    },
    {
     "name": "stderr",
     "output_type": "stream",
     "text": [
      "Epoch [8/50]: 100%|████████████████████████| 379/379 [01:12<00:00,  5.24it/s, Loss=0.4019]"
     ]
    },
    {
     "name": "stdout",
     "output_type": "stream",
     "text": [
      "Epoch [8/50] | Avg Loss: 0.4505 | Train Accuracy: 79.51%\n"
     ]
    },
    {
     "name": "stderr",
     "output_type": "stream",
     "text": [
      "\n"
     ]
    },
    {
     "name": "stdout",
     "output_type": "stream",
     "text": [
      "🔹 Test Accuracy: 47.11%\n",
      "⚠️ No improvement in TEST accuracy for 3/10 epochs\n"
     ]
    },
    {
     "name": "stderr",
     "output_type": "stream",
     "text": [
      "Epoch [9/50]: 100%|████████████████████████| 379/379 [01:12<00:00,  5.22it/s, Loss=0.6719]"
     ]
    },
    {
     "name": "stdout",
     "output_type": "stream",
     "text": [
      "Epoch [9/50] | Avg Loss: 0.4438 | Train Accuracy: 79.64%\n"
     ]
    },
    {
     "name": "stderr",
     "output_type": "stream",
     "text": [
      "\n"
     ]
    },
    {
     "name": "stdout",
     "output_type": "stream",
     "text": [
      "🔹 Test Accuracy: 43.47%\n",
      "⚠️ No improvement in TEST accuracy for 4/10 epochs\n"
     ]
    },
    {
     "name": "stderr",
     "output_type": "stream",
     "text": [
      "Epoch [10/50]: 100%|███████████████████████| 379/379 [01:11<00:00,  5.27it/s, Loss=0.4556]"
     ]
    },
    {
     "name": "stdout",
     "output_type": "stream",
     "text": [
      "Epoch [10/50] | Avg Loss: 0.4218 | Train Accuracy: 80.24%\n"
     ]
    },
    {
     "name": "stderr",
     "output_type": "stream",
     "text": [
      "\n"
     ]
    },
    {
     "name": "stdout",
     "output_type": "stream",
     "text": [
      "🔹 Test Accuracy: 46.81%\n",
      "⚠️ No improvement in TEST accuracy for 5/10 epochs\n"
     ]
    },
    {
     "name": "stderr",
     "output_type": "stream",
     "text": [
      "Epoch [11/50]: 100%|███████████████████████| 379/379 [01:17<00:00,  4.92it/s, Loss=0.2450]"
     ]
    },
    {
     "name": "stdout",
     "output_type": "stream",
     "text": [
      "Epoch [11/50] | Avg Loss: 0.4043 | Train Accuracy: 80.90%\n"
     ]
    },
    {
     "name": "stderr",
     "output_type": "stream",
     "text": [
      "\n"
     ]
    },
    {
     "name": "stdout",
     "output_type": "stream",
     "text": [
      "🔹 Test Accuracy: 53.80%\n",
      "⚠️ No improvement in TEST accuracy for 6/10 epochs\n"
     ]
    },
    {
     "name": "stderr",
     "output_type": "stream",
     "text": [
      "Epoch [12/50]: 100%|███████████████████████| 379/379 [01:11<00:00,  5.28it/s, Loss=1.1870]"
     ]
    },
    {
     "name": "stdout",
     "output_type": "stream",
     "text": [
      "Epoch [12/50] | Avg Loss: 0.4337 | Train Accuracy: 79.11%\n"
     ]
    },
    {
     "name": "stderr",
     "output_type": "stream",
     "text": [
      "\n"
     ]
    },
    {
     "name": "stdout",
     "output_type": "stream",
     "text": [
      "🔹 Test Accuracy: 46.81%\n",
      "⚠️ No improvement in TEST accuracy for 7/10 epochs\n"
     ]
    },
    {
     "name": "stderr",
     "output_type": "stream",
     "text": [
      "Epoch [13/50]: 100%|███████████████████████| 379/379 [01:11<00:00,  5.32it/s, Loss=1.0736]"
     ]
    },
    {
     "name": "stdout",
     "output_type": "stream",
     "text": [
      "Epoch [13/50] | Avg Loss: 0.3874 | Train Accuracy: 81.69%\n"
     ]
    },
    {
     "name": "stderr",
     "output_type": "stream",
     "text": [
      "\n"
     ]
    },
    {
     "name": "stdout",
     "output_type": "stream",
     "text": [
      "🔹 Test Accuracy: 53.50%\n",
      "⚠️ No improvement in TEST accuracy for 8/10 epochs\n"
     ]
    },
    {
     "name": "stderr",
     "output_type": "stream",
     "text": [
      "Epoch [14/50]: 100%|███████████████████████| 379/379 [01:11<00:00,  5.30it/s, Loss=0.4018]"
     ]
    },
    {
     "name": "stdout",
     "output_type": "stream",
     "text": [
      "Epoch [14/50] | Avg Loss: 0.3990 | Train Accuracy: 81.76%\n"
     ]
    },
    {
     "name": "stderr",
     "output_type": "stream",
     "text": [
      "\n"
     ]
    },
    {
     "name": "stdout",
     "output_type": "stream",
     "text": [
      "🔹 Test Accuracy: 52.58%\n",
      "⚠️ No improvement in TEST accuracy for 9/10 epochs\n"
     ]
    },
    {
     "name": "stderr",
     "output_type": "stream",
     "text": [
      "Epoch [15/50]: 100%|███████████████████████| 379/379 [01:14<00:00,  5.07it/s, Loss=0.1418]"
     ]
    },
    {
     "name": "stdout",
     "output_type": "stream",
     "text": [
      "Epoch [15/50] | Avg Loss: 0.3886 | Train Accuracy: 82.29%\n"
     ]
    },
    {
     "name": "stderr",
     "output_type": "stream",
     "text": [
      "\n"
     ]
    },
    {
     "name": "stdout",
     "output_type": "stream",
     "text": [
      "🔹 Test Accuracy: 50.76%\n",
      "⚠️ No improvement in TEST accuracy for 10/10 epochs\n",
      "⏹️ Early stopping triggered at epoch 15\n",
      "✅ Fine-tuning complete. Best model saved at D:\\I3D\\MODEL\\i3d_finetuned.pt | Best Test Accuracy: 58.66%\n"
     ]
    }
   ],
   "source": [
    "custom_print(\"🚀 Starting fine-tuning with early stopping based on TEST accuracy...\")\n",
    "best_test_acc = 0.0\n",
    "epochs_no_improve = 0\n",
    "\n",
    "for epoch in range(max_epochs):\n",
    "    i3d.train()\n",
    "    running_loss = 0.0\n",
    "    correct = 0\n",
    "    total = 0\n",
    "\n",
    "    # --------- TRAINING STEP ---------\n",
    "    progress_bar = tqdm(train_loader, desc=f\"Epoch [{epoch+1}/{max_epochs}]\", ncols=90)\n",
    "    for clips, labels in progress_bar:\n",
    "        clips, labels = clips.to(device), labels.to(device)\n",
    "        optimizer.zero_grad()\n",
    "        outputs = i3d(clips).squeeze(-1).squeeze(-1).squeeze(-1)\n",
    "        loss = criterion(outputs, labels)\n",
    "        loss.backward()\n",
    "        optimizer.step()\n",
    "\n",
    "        running_loss += loss.item()\n",
    "        _, preds = torch.max(outputs, 1)\n",
    "        correct += (preds == labels).sum().item()\n",
    "        total += labels.size(0)\n",
    "        progress_bar.set_postfix({\"Loss\": f\"{loss.item():.4f}\"})\n",
    "\n",
    "    avg_loss = running_loss / len(train_loader)\n",
    "    train_acc = 100 * correct / total\n",
    "    custom_print(f\"Epoch [{epoch+1}/{max_epochs}] | Avg Loss: {avg_loss:.4f} | Train Accuracy: {train_acc:.2f}%\")\n",
    "\n",
    "    # --------- TEST STEP ---------\n",
    "    i3d.eval()\n",
    "    all_preds, all_labels = [], []\n",
    "    with torch.no_grad():\n",
    "        for clips, labels in test_loader:\n",
    "            clips, labels = clips.to(device), labels.to(device)\n",
    "            outputs = i3d(clips).squeeze(-1).squeeze(-1).squeeze(-1)\n",
    "            preds = outputs.argmax(dim=1)\n",
    "            all_preds.extend(preds.cpu().numpy())\n",
    "            all_labels.extend(labels.cpu().numpy())\n",
    "\n",
    "    test_acc = accuracy_score(all_labels, all_preds) * 100\n",
    "    custom_print(f\"🔹 Test Accuracy: {test_acc:.2f}%\")\n",
    "\n",
    "    # --------- EARLY STOPPING BASED ON TEST ACC ---------\n",
    "    if test_acc > best_test_acc:\n",
    "        best_test_acc = test_acc\n",
    "        epochs_no_improve = 0\n",
    "        torch.save(i3d.state_dict(), fine_tuned_model_path)\n",
    "        custom_print(f\"💾 Best model updated at epoch {epoch+1} with TEST accuracy {test_acc:.2f}%\")\n",
    "    else:\n",
    "        epochs_no_improve += 1\n",
    "        custom_print(f\"⚠️ No improvement in TEST accuracy for {epochs_no_improve}/{patience} epochs\")\n",
    "\n",
    "    if epochs_no_improve >= patience:\n",
    "        custom_print(f\"⏹️ Early stopping triggered at epoch {epoch+1}\")\n",
    "        break\n",
    "\n",
    "custom_print(f\"✅ Fine-tuning complete. Best model saved at {fine_tuned_model_path} | Best Test Accuracy: {best_test_acc:.2f}%\")\n"
   ]
  },
  {
   "cell_type": "code",
   "execution_count": 41,
   "id": "e3da51d0",
   "metadata": {},
   "outputs": [
    {
     "name": "stdout",
     "output_type": "stream",
     "text": [
      "Using device: cuda\n",
      "📁 Found classes: ['person', 'snatcher', 'victim']\n",
      "Total clips: 329 | Classes: 3\n"
     ]
    },
    {
     "name": "stdout",
     "output_type": "stream",
     "text": [
      "Model loaded from D:\\I3D\\MODEL\\i3d_finetuned.pt\n",
      "📊 Starting evaluation...\n"
     ]
    },
    {
     "name": "stderr",
     "output_type": "stream",
     "text": [
      "Evaluating: 100%|█████████████████████████████████████████| 83/83 [00:10<00:00,  8.21it/s]\n"
     ]
    },
    {
     "name": "stdout",
     "output_type": "stream",
     "text": [
      "✅ Accuracy: 58.66%\n",
      "📊 Classification Report:\n",
      "person: Precision: 0.66, Recall: 0.54, F1: 0.60\n",
      "snatcher: Precision: 0.34, Recall: 0.39, F1: 0.37\n",
      "victim: Precision: 0.65, Recall: 0.72, F1: 0.68\n",
      "📈 Confusion matrix saved as i3d_confusion_matrix.png\n",
      "📊 Metrics barplot with accuracy saved as i3d_metrics_barplot_with_accuracy.png\n",
      "📈 ROC AUC curve saved as i3d_roc_auc_curve.png\n"
     ]
    },
    {
     "data": {
      "image/png": "[encoded data removed]",
      "text/plain": [
       "<Figure size 800x600 with 2 Axes>"
      ]
     },
     "metadata": {},
     "output_type": "display_data"
    },
    {
     "data": {
      "image/png": "[encoded data removed]",
      "text/plain": [
       "<Figure size 1200x600 with 1 Axes>"
      ]
     },
     "metadata": {},
     "output_type": "display_data"
    },
    {
     "data": {
      "image/png": "[encoded data removed]",
      "text/plain": [
       "<Figure size 800x600 with 1 Axes>"
      ]
     },
     "metadata": {},
     "output_type": "display_data"
    }
   ],
   "source": [
    "import sys\n",
    "import torch\n",
    "from torch.utils.data import DataLoader\n",
    "import torch.nn as nn\n",
    "import matplotlib.pyplot as plt\n",
    "import seaborn as sns\n",
    "from sklearn.metrics import accuracy_score, classification_report, confusion_matrix, roc_curve, auc\n",
    "from sklearn.preprocessing import label_binarize\n",
    "import os\n",
    "from pytorch_i3d import InceptionI3d\n",
    "from tqdm import tqdm\n",
    "import numpy as np\n",
    "\n",
    "# -------------------------------\n",
    "# Custom print\n",
    "# -------------------------------\n",
    "def custom_print(msg):\n",
    "    sys.stdout.write(msg + \"\\n\")\n",
    "    sys.stdout.flush()\n",
    "\n",
    "# -------------------------------\n",
    "# Config\n",
    "# -------------------------------\n",
    "dataset_path = r\"D:\\I3D\\yashti_test\\Merged dataset\"\n",
    "model_path = r\"D:\\I3D\\MODEL\\i3d_finetuned.pt\"\n",
    "batch_size = 4\n",
    "device = torch.device(\"cuda\" if torch.cuda.is_available() else \"cpu\")\n",
    "custom_print(f\"Using device: {device}\")\n",
    "\n",
    "# -------------------------------\n",
    "# Dataset class\n",
    "# -------------------------------\n",
    "class VideoClipDataset(torch.utils.data.Dataset):\n",
    "    def __init__(self, data_root):\n",
    "        self.clip_paths = []\n",
    "        self.labels = []\n",
    "        self.class_names = sorted(os.listdir(data_root))\n",
    "        self.class_to_idx = {cls: i for i, cls in enumerate(self.class_names)}\n",
    "        custom_print(f\"📁 Found classes: {self.class_names}\")\n",
    "\n",
    "        for cls in self.class_names:\n",
    "            folder = os.path.join(data_root, cls)\n",
    "            for f in os.listdir(folder):\n",
    "                if f.endswith(\".pt\"):\n",
    "                    self.clip_paths.append(os.path.join(folder, f))\n",
    "                    self.labels.append(self.class_to_idx[cls])\n",
    "\n",
    "    def __len__(self):\n",
    "        return len(self.clip_paths)\n",
    "\n",
    "    def __getitem__(self, idx):\n",
    "        clip = torch.load(self.clip_paths[idx], map_location=\"cpu\").float()\n",
    "        label = self.labels[idx]\n",
    "        return clip, label\n",
    "\n",
    "# -------------------------------\n",
    "# Load dataset and DataLoader\n",
    "# -------------------------------\n",
    "dataset = VideoClipDataset(dataset_path)\n",
    "loader = DataLoader(dataset, batch_size=batch_size, shuffle=False)\n",
    "num_classes = len(dataset.class_names)\n",
    "custom_print(f\"Total clips: {len(dataset)} | Classes: {num_classes}\")\n",
    "\n",
    "# -------------------------------\n",
    "# Load model\n",
    "# -------------------------------\n",
    "i3d = InceptionI3d(400, in_channels=32)\n",
    "i3d.replace_logits(num_classes)\n",
    "i3d.avg_pool = nn.AvgPool3d(kernel_size=(1, 7, 7), stride=1, padding=(0, 0, 0))\n",
    "i3d = i3d.to(device)\n",
    "\n",
    "state_dict = torch.load(model_path, map_location=device)\n",
    "i3d.load_state_dict(state_dict)\n",
    "i3d.eval()\n",
    "custom_print(f\"Model loaded from {model_path}\")\n",
    "\n",
    "# -------------------------------\n",
    "# Evaluation\n",
    "# -------------------------------\n",
    "criterion = nn.CrossEntropyLoss()\n",
    "all_preds, all_labels, all_probs = [], [], []\n",
    "\n",
    "custom_print(\"📊 Starting evaluation...\")\n",
    "progress_bar = tqdm(loader, desc=\"Evaluating\", ncols=90)\n",
    "\n",
    "with torch.no_grad():\n",
    "    for clips, labels in progress_bar:\n",
    "        clips, labels = clips.to(device), labels.to(device)\n",
    "        outputs = i3d(clips)\n",
    "        outputs = outputs.squeeze(-1).squeeze(-1).squeeze(-1)\n",
    "        probs = torch.softmax(outputs, dim=1)\n",
    "        preds = outputs.argmax(dim=1)\n",
    "\n",
    "        all_preds.extend(preds.cpu().numpy())\n",
    "        all_labels.extend(labels.cpu().numpy())\n",
    "        all_probs.extend(probs.cpu().numpy())\n",
    "\n",
    "accuracy = accuracy_score(all_labels, all_preds)\n",
    "report = classification_report(all_labels, all_preds, target_names=dataset.class_names, zero_division=0, output_dict=True)\n",
    "cm = confusion_matrix(all_labels, all_preds)\n",
    "\n",
    "custom_print(f\"✅ Accuracy: {accuracy*100:.2f}%\")\n",
    "custom_print(\"📊 Classification Report:\")\n",
    "for cls, metrics in report.items():\n",
    "    if cls not in ['accuracy', 'macro avg', 'weighted avg']:\n",
    "        custom_print(f\"{cls}: Precision: {metrics['precision']:.2f}, Recall: {metrics['recall']:.2f}, F1: {metrics['f1-score']:.2f}\")\n",
    "\n",
    "# -------------------------------\n",
    "# Confusion Matrix\n",
    "# -------------------------------\n",
    "plt.figure(figsize=(8, 6))\n",
    "sns.heatmap(cm, annot=True, fmt=\"d\", cmap=\"Blues\",\n",
    "            xticklabels=dataset.class_names, yticklabels=dataset.class_names)\n",
    "plt.xlabel(\"Predicted\")\n",
    "plt.ylabel(\"True\")\n",
    "plt.title(\"Confusion Matrix\")\n",
    "plt.tight_layout()\n",
    "plt.savefig(\"i3d_confusion_matrix.png\")\n",
    "custom_print(\"📈 Confusion matrix saved as i3d_confusion_matrix.png\")\n",
    "\n",
    "# -------------------------------\n",
    "# Metrics Barplot (Precision, Recall, F1)\n",
    "# -------------------------------\n",
    "metrics_names = ['precision', 'recall', 'f1-score', 'accuracy']\n",
    "plt.figure(figsize=(12, 6))\n",
    "bar_width = 0.2\n",
    "index = np.arange(len(dataset.class_names))\n",
    "\n",
    "# Prepare values\n",
    "precision_vals = [report[cls]['precision'] for cls in dataset.class_names]\n",
    "recall_vals = [report[cls]['recall'] for cls in dataset.class_names]\n",
    "f1_vals = [report[cls]['f1-score'] for cls in dataset.class_names]\n",
    "accuracy_vals = [(cm[i, i]/cm[i].sum()) if cm[i].sum()>0 else 0 for i in range(len(dataset.class_names))]  # per-class accuracy\n",
    "\n",
    "for i, (metric_name, values) in enumerate(zip(metrics_names, [precision_vals, recall_vals, f1_vals, accuracy_vals])):\n",
    "    plt.bar(index + i*bar_width, values, bar_width, label=metric_name.capitalize())\n",
    "\n",
    "plt.xticks(index + 1.5*bar_width, dataset.class_names)\n",
    "plt.ylim(0, 1.0)\n",
    "plt.ylabel(\"Score\")\n",
    "plt.title(\"Per-Class Metrics (Precision, Recall, F1, Accuracy)\")\n",
    "plt.legend()\n",
    "plt.tight_layout()\n",
    "plt.savefig(\"i3d_metrics_barplot_with_accuracy.png\")\n",
    "custom_print(\"📊 Metrics barplot with accuracy saved as i3d_metrics_barplot_with_accuracy.png\")\n",
    "\n",
    "# -------------------------------\n",
    "# Multi-class ROC AUC Curve\n",
    "# -------------------------------\n",
    "all_labels_bin = label_binarize(all_labels, classes=list(range(num_classes)))\n",
    "all_probs_np = np.array(all_probs)\n",
    "\n",
    "plt.figure(figsize=(8, 6))\n",
    "for i in range(num_classes):\n",
    "    fpr, tpr, _ = roc_curve(all_labels_bin[:, i], all_probs_np[:, i])\n",
    "    roc_auc = auc(fpr, tpr)\n",
    "    plt.plot(fpr, tpr, lw=2, label=f\"{dataset.class_names[i]} (AUC = {roc_auc:.2f})\")\n",
    "\n",
    "plt.plot([0, 1], [0, 1], color='gray', linestyle='--')\n",
    "plt.xlim([0.0, 1.0])\n",
    "plt.ylim([0.0, 1.05])\n",
    "plt.xlabel(\"False Positive Rate\")\n",
    "plt.ylabel(\"True Positive Rate\")\n",
    "plt.title(\"Multi-class ROC Curve\")\n",
    "plt.legend(loc=\"lower right\")\n",
    "plt.tight_layout()\n",
    "plt.savefig(\"i3d_roc_auc_curve.png\")\n",
    "custom_print(\"📈 ROC AUC curve saved as i3d_roc_auc_curve.png\")\n"
   ]
  }
 ],
 "metadata": {
  "kernelspec": {
   "display_name": "Python 3",
   "language": "python",
   "name": "python3"
  },
  "language_info": {
   "codemirror_mode": {
    "name": "ipython",
    "version": 3
   },
   "file_extension": ".py",
   "mimetype": "text/x-python",
   "name": "python",
   "nbconvert_exporter": "python",
   "pygments_lexer": "ipython3",
   "version": "3.10.11"
  }
 },
 "nbformat": 4,
 "nbformat_minor": 5
}
